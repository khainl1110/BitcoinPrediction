{
 "cells": [
  {
   "cell_type": "code",
   "execution_count": 1,
   "id": "39a245fe-c2be-45a2-84a0-12d4555e0b7e",
   "metadata": {},
   "outputs": [],
   "source": [
    "import pandas as pd\n",
    "import seaborn\n",
    "import matplotlib.pyplot as plt\n",
    "import numpy as np\n",
    "import warnings\n",
    "import random\n",
    "warnings.filterwarnings(\"ignore\")\n"
   ]
  },
  {
   "cell_type": "code",
   "execution_count": 2,
   "id": "a6ced231-e986-46ef-8b86-98efabbed8e5",
   "metadata": {},
   "outputs": [],
   "source": [
    "btc = pd.read_csv('BTC-USD.csv')\n",
    "eth = pd.read_csv('ETH-USD.csv')\n",
    "spy = pd.read_csv('SPY.csv')"
   ]
  },
  {
   "cell_type": "code",
   "execution_count": 3,
   "id": "b3f7b7b5-16bb-4808-957d-e064e4829efc",
   "metadata": {},
   "outputs": [
    {
     "data": {
      "text/plain": [
       "0      2023-01-03\n",
       "1      2023-01-04\n",
       "2      2023-01-05\n",
       "3      2023-01-06\n",
       "4      2023-01-09\n",
       "          ...    \n",
       "321    2024-04-15\n",
       "322    2024-04-16\n",
       "323    2024-04-17\n",
       "324    2024-04-18\n",
       "325    2024-04-19\n",
       "Name: Date, Length: 326, dtype: object"
      ]
     },
     "execution_count": 3,
     "metadata": {},
     "output_type": "execute_result"
    }
   ],
   "source": [
    "spy['Date']"
   ]
  },
  {
   "cell_type": "markdown",
   "id": "97e724a7-4169-4759-a69c-b1f2345252f1",
   "metadata": {},
   "source": [
    "## Data preprocessing"
   ]
  },
  {
   "cell_type": "markdown",
   "id": "049d1c7a-ea08-4e07-adae-2ed6d0ee5059",
   "metadata": {},
   "source": [
    "### Convert column name to perspective column name"
   ]
  },
  {
   "cell_type": "code",
   "execution_count": 4,
   "id": "1a16a302-2b51-4772-b77e-1dc63d29fab1",
   "metadata": {},
   "outputs": [
    {
     "data": {
      "text/plain": [
       "Index(['Date', 'Open', 'High', 'Low', 'Close', 'Adj Close', 'Volume'], dtype='object')"
      ]
     },
     "execution_count": 4,
     "metadata": {},
     "output_type": "execute_result"
    }
   ],
   "source": [
    "btc.columns"
   ]
  },
  {
   "cell_type": "code",
   "execution_count": 5,
   "id": "77bea7db-107e-44b4-9259-add018938adc",
   "metadata": {},
   "outputs": [
    {
     "data": {
      "text/html": [
       "<div>\n",
       "<style scoped>\n",
       "    .dataframe tbody tr th:only-of-type {\n",
       "        vertical-align: middle;\n",
       "    }\n",
       "\n",
       "    .dataframe tbody tr th {\n",
       "        vertical-align: top;\n",
       "    }\n",
       "\n",
       "    .dataframe thead th {\n",
       "        text-align: right;\n",
       "    }\n",
       "</style>\n",
       "<table border=\"1\" class=\"dataframe\">\n",
       "  <thead>\n",
       "    <tr style=\"text-align: right;\">\n",
       "      <th></th>\n",
       "      <th>Date</th>\n",
       "      <th>Open</th>\n",
       "      <th>High</th>\n",
       "      <th>Low</th>\n",
       "      <th>Close</th>\n",
       "      <th>Adj Close</th>\n",
       "      <th>Volume</th>\n",
       "    </tr>\n",
       "  </thead>\n",
       "  <tbody>\n",
       "    <tr>\n",
       "      <th>0</th>\n",
       "      <td>2023-01-01</td>\n",
       "      <td>16547.914063</td>\n",
       "      <td>16630.439453</td>\n",
       "      <td>16521.234375</td>\n",
       "      <td>16625.080078</td>\n",
       "      <td>16625.080078</td>\n",
       "      <td>9244361700</td>\n",
       "    </tr>\n",
       "    <tr>\n",
       "      <th>1</th>\n",
       "      <td>2023-01-02</td>\n",
       "      <td>16625.509766</td>\n",
       "      <td>16759.343750</td>\n",
       "      <td>16572.228516</td>\n",
       "      <td>16688.470703</td>\n",
       "      <td>16688.470703</td>\n",
       "      <td>12097775227</td>\n",
       "    </tr>\n",
       "    <tr>\n",
       "      <th>2</th>\n",
       "      <td>2023-01-03</td>\n",
       "      <td>16688.847656</td>\n",
       "      <td>16760.447266</td>\n",
       "      <td>16622.371094</td>\n",
       "      <td>16679.857422</td>\n",
       "      <td>16679.857422</td>\n",
       "      <td>13903079207</td>\n",
       "    </tr>\n",
       "    <tr>\n",
       "      <th>3</th>\n",
       "      <td>2023-01-04</td>\n",
       "      <td>16680.205078</td>\n",
       "      <td>16964.585938</td>\n",
       "      <td>16667.763672</td>\n",
       "      <td>16863.238281</td>\n",
       "      <td>16863.238281</td>\n",
       "      <td>18421743322</td>\n",
       "    </tr>\n",
       "    <tr>\n",
       "      <th>4</th>\n",
       "      <td>2023-01-05</td>\n",
       "      <td>16863.472656</td>\n",
       "      <td>16884.021484</td>\n",
       "      <td>16790.283203</td>\n",
       "      <td>16836.736328</td>\n",
       "      <td>16836.736328</td>\n",
       "      <td>13692758566</td>\n",
       "    </tr>\n",
       "  </tbody>\n",
       "</table>\n",
       "</div>"
      ],
      "text/plain": [
       "         Date          Open          High           Low         Close  \\\n",
       "0  2023-01-01  16547.914063  16630.439453  16521.234375  16625.080078   \n",
       "1  2023-01-02  16625.509766  16759.343750  16572.228516  16688.470703   \n",
       "2  2023-01-03  16688.847656  16760.447266  16622.371094  16679.857422   \n",
       "3  2023-01-04  16680.205078  16964.585938  16667.763672  16863.238281   \n",
       "4  2023-01-05  16863.472656  16884.021484  16790.283203  16836.736328   \n",
       "\n",
       "      Adj Close       Volume  \n",
       "0  16625.080078   9244361700  \n",
       "1  16688.470703  12097775227  \n",
       "2  16679.857422  13903079207  \n",
       "3  16863.238281  18421743322  \n",
       "4  16836.736328  13692758566  "
      ]
     },
     "execution_count": 5,
     "metadata": {},
     "output_type": "execute_result"
    }
   ],
   "source": [
    "btc.head()"
   ]
  },
  {
   "cell_type": "code",
   "execution_count": 6,
   "id": "3a894c2c",
   "metadata": {},
   "outputs": [
    {
     "name": "stdout",
     "output_type": "stream",
     "text": [
      "Date         0\n",
      "Open         0\n",
      "High         0\n",
      "Low          0\n",
      "Close        0\n",
      "Adj Close    0\n",
      "Volume       0\n",
      "dtype: int64\n",
      "Date         0\n",
      "Open         0\n",
      "High         0\n",
      "Low          0\n",
      "Close        0\n",
      "Adj Close    0\n",
      "Volume       0\n",
      "dtype: int64\n",
      "Date         0\n",
      "Open         0\n",
      "High         0\n",
      "Low          0\n",
      "Close        0\n",
      "Adj Close    0\n",
      "Volume       0\n",
      "dtype: int64\n"
     ]
    }
   ],
   "source": [
    "#Check for any missing data\n",
    "print(btc.isna().sum())\n",
    "print(eth.isna().sum())\n",
    "print(spy.isna().sum())"
   ]
  },
  {
   "cell_type": "code",
   "execution_count": 7,
   "id": "8bc7f406-6d57-4ecd-9c59-f3709c0e7933",
   "metadata": {},
   "outputs": [],
   "source": [
    "for i in btc.columns:\n",
    "    if i != 'Date':\n",
    "        btc['btc' +i] = btc[i]\n",
    "        btc = btc.drop(i, axis = 1)"
   ]
  },
  {
   "cell_type": "code",
   "execution_count": 8,
   "id": "7841e8ef-e4d7-4036-983b-d9675eb1002a",
   "metadata": {},
   "outputs": [],
   "source": [
    "for i in eth.columns:\n",
    "    if i != 'Date':\n",
    "        eth['eth' +i] = eth[i]\n",
    "        eth = eth.drop(i, axis = 1)"
   ]
  },
  {
   "cell_type": "code",
   "execution_count": 9,
   "id": "a0e24b1b-c787-4a24-b413-179950e74289",
   "metadata": {},
   "outputs": [],
   "source": [
    "for i in spy.columns:\n",
    "    if i != 'Date':\n",
    "        spy['spy' +i] = spy[i]\n",
    "        spy = spy.drop(i, axis = 1)"
   ]
  },
  {
   "cell_type": "code",
   "execution_count": 10,
   "id": "31a7caeb-3ef1-4b2d-af1d-62e3a45f2aa3",
   "metadata": {},
   "outputs": [
    {
     "data": {
      "text/plain": [
       "Index(['Date', 'ethOpen', 'ethHigh', 'ethLow', 'ethClose', 'ethAdj Close',\n",
       "       'ethVolume'],\n",
       "      dtype='object')"
      ]
     },
     "execution_count": 10,
     "metadata": {},
     "output_type": "execute_result"
    }
   ],
   "source": [
    "eth.columns"
   ]
  },
  {
   "cell_type": "code",
   "execution_count": 11,
   "id": "ad906c24-5280-4e31-bd25-e204039880b8",
   "metadata": {},
   "outputs": [
    {
     "data": {
      "text/plain": [
       "Index(['Date', 'spyOpen', 'spyHigh', 'spyLow', 'spyClose', 'spyAdj Close',\n",
       "       'spyVolume'],\n",
       "      dtype='object')"
      ]
     },
     "execution_count": 11,
     "metadata": {},
     "output_type": "execute_result"
    }
   ],
   "source": [
    "spy.columns"
   ]
  },
  {
   "cell_type": "markdown",
   "id": "70925a56-e890-437d-bca2-14eb24a59c98",
   "metadata": {},
   "source": [
    "https://realpython.com/pandas-merge-join-and-concat/"
   ]
  },
  {
   "cell_type": "code",
   "execution_count": 12,
   "id": "34791bec-995d-4f76-970f-bc84bc28e447",
   "metadata": {},
   "outputs": [],
   "source": [
    "### When merged, around 600 or 30% of data got lost\n",
    "df = pd.merge(btc, eth, on = [\"Date\"])"
   ]
  },
  {
   "cell_type": "code",
   "execution_count": 13,
   "id": "74b1047f-6c71-4989-9dd4-8d10a759f111",
   "metadata": {},
   "outputs": [
    {
     "data": {
      "text/html": [
       "<div>\n",
       "<style scoped>\n",
       "    .dataframe tbody tr th:only-of-type {\n",
       "        vertical-align: middle;\n",
       "    }\n",
       "\n",
       "    .dataframe tbody tr th {\n",
       "        vertical-align: top;\n",
       "    }\n",
       "\n",
       "    .dataframe thead th {\n",
       "        text-align: right;\n",
       "    }\n",
       "</style>\n",
       "<table border=\"1\" class=\"dataframe\">\n",
       "  <thead>\n",
       "    <tr style=\"text-align: right;\">\n",
       "      <th></th>\n",
       "      <th>Date</th>\n",
       "      <th>btcOpen</th>\n",
       "      <th>btcHigh</th>\n",
       "      <th>btcLow</th>\n",
       "      <th>btcClose</th>\n",
       "      <th>btcAdj Close</th>\n",
       "      <th>btcVolume</th>\n",
       "      <th>ethOpen</th>\n",
       "      <th>ethHigh</th>\n",
       "      <th>ethLow</th>\n",
       "      <th>ethClose</th>\n",
       "      <th>ethAdj Close</th>\n",
       "      <th>ethVolume</th>\n",
       "    </tr>\n",
       "  </thead>\n",
       "  <tbody>\n",
       "    <tr>\n",
       "      <th>0</th>\n",
       "      <td>2023-01-01</td>\n",
       "      <td>16547.914063</td>\n",
       "      <td>16630.439453</td>\n",
       "      <td>16521.234375</td>\n",
       "      <td>16625.080078</td>\n",
       "      <td>16625.080078</td>\n",
       "      <td>9244361700</td>\n",
       "      <td>1196.713623</td>\n",
       "      <td>1203.475342</td>\n",
       "      <td>1192.885376</td>\n",
       "      <td>1200.964844</td>\n",
       "      <td>1200.964844</td>\n",
       "      <td>2399674550</td>\n",
       "    </tr>\n",
       "    <tr>\n",
       "      <th>1</th>\n",
       "      <td>2023-01-02</td>\n",
       "      <td>16625.509766</td>\n",
       "      <td>16759.343750</td>\n",
       "      <td>16572.228516</td>\n",
       "      <td>16688.470703</td>\n",
       "      <td>16688.470703</td>\n",
       "      <td>12097775227</td>\n",
       "      <td>1201.103271</td>\n",
       "      <td>1219.860596</td>\n",
       "      <td>1195.214966</td>\n",
       "      <td>1214.656616</td>\n",
       "      <td>1214.656616</td>\n",
       "      <td>3765758498</td>\n",
       "    </tr>\n",
       "    <tr>\n",
       "      <th>2</th>\n",
       "      <td>2023-01-03</td>\n",
       "      <td>16688.847656</td>\n",
       "      <td>16760.447266</td>\n",
       "      <td>16622.371094</td>\n",
       "      <td>16679.857422</td>\n",
       "      <td>16679.857422</td>\n",
       "      <td>13903079207</td>\n",
       "      <td>1214.744019</td>\n",
       "      <td>1219.095337</td>\n",
       "      <td>1207.491577</td>\n",
       "      <td>1214.778809</td>\n",
       "      <td>1214.778809</td>\n",
       "      <td>3392972131</td>\n",
       "    </tr>\n",
       "    <tr>\n",
       "      <th>3</th>\n",
       "      <td>2023-01-04</td>\n",
       "      <td>16680.205078</td>\n",
       "      <td>16964.585938</td>\n",
       "      <td>16667.763672</td>\n",
       "      <td>16863.238281</td>\n",
       "      <td>16863.238281</td>\n",
       "      <td>18421743322</td>\n",
       "      <td>1214.718628</td>\n",
       "      <td>1264.807495</td>\n",
       "      <td>1213.168823</td>\n",
       "      <td>1256.526611</td>\n",
       "      <td>1256.526611</td>\n",
       "      <td>6404416893</td>\n",
       "    </tr>\n",
       "    <tr>\n",
       "      <th>4</th>\n",
       "      <td>2023-01-05</td>\n",
       "      <td>16863.472656</td>\n",
       "      <td>16884.021484</td>\n",
       "      <td>16790.283203</td>\n",
       "      <td>16836.736328</td>\n",
       "      <td>16836.736328</td>\n",
       "      <td>13692758566</td>\n",
       "      <td>1256.484619</td>\n",
       "      <td>1258.571533</td>\n",
       "      <td>1245.173096</td>\n",
       "      <td>1250.438599</td>\n",
       "      <td>1250.438599</td>\n",
       "      <td>4001786456</td>\n",
       "    </tr>\n",
       "  </tbody>\n",
       "</table>\n",
       "</div>"
      ],
      "text/plain": [
       "         Date       btcOpen       btcHigh        btcLow      btcClose  \\\n",
       "0  2023-01-01  16547.914063  16630.439453  16521.234375  16625.080078   \n",
       "1  2023-01-02  16625.509766  16759.343750  16572.228516  16688.470703   \n",
       "2  2023-01-03  16688.847656  16760.447266  16622.371094  16679.857422   \n",
       "3  2023-01-04  16680.205078  16964.585938  16667.763672  16863.238281   \n",
       "4  2023-01-05  16863.472656  16884.021484  16790.283203  16836.736328   \n",
       "\n",
       "   btcAdj Close    btcVolume      ethOpen      ethHigh       ethLow  \\\n",
       "0  16625.080078   9244361700  1196.713623  1203.475342  1192.885376   \n",
       "1  16688.470703  12097775227  1201.103271  1219.860596  1195.214966   \n",
       "2  16679.857422  13903079207  1214.744019  1219.095337  1207.491577   \n",
       "3  16863.238281  18421743322  1214.718628  1264.807495  1213.168823   \n",
       "4  16836.736328  13692758566  1256.484619  1258.571533  1245.173096   \n",
       "\n",
       "      ethClose  ethAdj Close   ethVolume  \n",
       "0  1200.964844   1200.964844  2399674550  \n",
       "1  1214.656616   1214.656616  3765758498  \n",
       "2  1214.778809   1214.778809  3392972131  \n",
       "3  1256.526611   1256.526611  6404416893  \n",
       "4  1250.438599   1250.438599  4001786456  "
      ]
     },
     "execution_count": 13,
     "metadata": {},
     "output_type": "execute_result"
    }
   ],
   "source": [
    "df.head()"
   ]
  },
  {
   "cell_type": "code",
   "execution_count": 14,
   "id": "9447fed3-bab6-4773-ba47-ad2c97b65a75",
   "metadata": {},
   "outputs": [],
   "source": [
    "df = pd.merge(df, spy, on = ['Date'])"
   ]
  },
  {
   "cell_type": "code",
   "execution_count": 15,
   "id": "5d99a1b9-4a8e-4432-8e6a-c5e4002ad5d5",
   "metadata": {},
   "outputs": [
    {
     "data": {
      "text/html": [
       "<div>\n",
       "<style scoped>\n",
       "    .dataframe tbody tr th:only-of-type {\n",
       "        vertical-align: middle;\n",
       "    }\n",
       "\n",
       "    .dataframe tbody tr th {\n",
       "        vertical-align: top;\n",
       "    }\n",
       "\n",
       "    .dataframe thead th {\n",
       "        text-align: right;\n",
       "    }\n",
       "</style>\n",
       "<table border=\"1\" class=\"dataframe\">\n",
       "  <thead>\n",
       "    <tr style=\"text-align: right;\">\n",
       "      <th></th>\n",
       "      <th>Date</th>\n",
       "      <th>btcOpen</th>\n",
       "      <th>btcHigh</th>\n",
       "      <th>btcLow</th>\n",
       "      <th>btcClose</th>\n",
       "      <th>btcAdj Close</th>\n",
       "      <th>btcVolume</th>\n",
       "      <th>ethOpen</th>\n",
       "      <th>ethHigh</th>\n",
       "      <th>ethLow</th>\n",
       "      <th>ethClose</th>\n",
       "      <th>ethAdj Close</th>\n",
       "      <th>ethVolume</th>\n",
       "      <th>spyOpen</th>\n",
       "      <th>spyHigh</th>\n",
       "      <th>spyLow</th>\n",
       "      <th>spyClose</th>\n",
       "      <th>spyAdj Close</th>\n",
       "      <th>spyVolume</th>\n",
       "    </tr>\n",
       "  </thead>\n",
       "  <tbody>\n",
       "    <tr>\n",
       "      <th>0</th>\n",
       "      <td>2023-01-03</td>\n",
       "      <td>16688.847656</td>\n",
       "      <td>16760.447266</td>\n",
       "      <td>16622.371094</td>\n",
       "      <td>16679.857422</td>\n",
       "      <td>16679.857422</td>\n",
       "      <td>13903079207</td>\n",
       "      <td>1214.744019</td>\n",
       "      <td>1219.095337</td>\n",
       "      <td>1207.491577</td>\n",
       "      <td>1214.778809</td>\n",
       "      <td>1214.778809</td>\n",
       "      <td>3392972131</td>\n",
       "      <td>384.369995</td>\n",
       "      <td>386.429993</td>\n",
       "      <td>377.829987</td>\n",
       "      <td>380.820007</td>\n",
       "      <td>373.956818</td>\n",
       "      <td>74850700</td>\n",
       "    </tr>\n",
       "    <tr>\n",
       "      <th>1</th>\n",
       "      <td>2023-01-04</td>\n",
       "      <td>16680.205078</td>\n",
       "      <td>16964.585938</td>\n",
       "      <td>16667.763672</td>\n",
       "      <td>16863.238281</td>\n",
       "      <td>16863.238281</td>\n",
       "      <td>18421743322</td>\n",
       "      <td>1214.718628</td>\n",
       "      <td>1264.807495</td>\n",
       "      <td>1213.168823</td>\n",
       "      <td>1256.526611</td>\n",
       "      <td>1256.526611</td>\n",
       "      <td>6404416893</td>\n",
       "      <td>383.179993</td>\n",
       "      <td>385.880005</td>\n",
       "      <td>380.000000</td>\n",
       "      <td>383.760010</td>\n",
       "      <td>376.843842</td>\n",
       "      <td>85934100</td>\n",
       "    </tr>\n",
       "    <tr>\n",
       "      <th>2</th>\n",
       "      <td>2023-01-05</td>\n",
       "      <td>16863.472656</td>\n",
       "      <td>16884.021484</td>\n",
       "      <td>16790.283203</td>\n",
       "      <td>16836.736328</td>\n",
       "      <td>16836.736328</td>\n",
       "      <td>13692758566</td>\n",
       "      <td>1256.484619</td>\n",
       "      <td>1258.571533</td>\n",
       "      <td>1245.173096</td>\n",
       "      <td>1250.438599</td>\n",
       "      <td>1250.438599</td>\n",
       "      <td>4001786456</td>\n",
       "      <td>381.720001</td>\n",
       "      <td>381.839996</td>\n",
       "      <td>378.760010</td>\n",
       "      <td>379.380005</td>\n",
       "      <td>372.542755</td>\n",
       "      <td>76970500</td>\n",
       "    </tr>\n",
       "    <tr>\n",
       "      <th>3</th>\n",
       "      <td>2023-01-06</td>\n",
       "      <td>16836.472656</td>\n",
       "      <td>16991.994141</td>\n",
       "      <td>16716.421875</td>\n",
       "      <td>16951.968750</td>\n",
       "      <td>16951.968750</td>\n",
       "      <td>14413662913</td>\n",
       "      <td>1250.458984</td>\n",
       "      <td>1273.220337</td>\n",
       "      <td>1240.947510</td>\n",
       "      <td>1269.379028</td>\n",
       "      <td>1269.379028</td>\n",
       "      <td>4977252792</td>\n",
       "      <td>382.609985</td>\n",
       "      <td>389.250000</td>\n",
       "      <td>379.410004</td>\n",
       "      <td>388.079987</td>\n",
       "      <td>381.085938</td>\n",
       "      <td>104189600</td>\n",
       "    </tr>\n",
       "    <tr>\n",
       "      <th>4</th>\n",
       "      <td>2023-01-09</td>\n",
       "      <td>17093.992188</td>\n",
       "      <td>17389.957031</td>\n",
       "      <td>17093.992188</td>\n",
       "      <td>17196.554688</td>\n",
       "      <td>17196.554688</td>\n",
       "      <td>18624736866</td>\n",
       "      <td>1287.450806</td>\n",
       "      <td>1342.144165</td>\n",
       "      <td>1286.680786</td>\n",
       "      <td>1321.538940</td>\n",
       "      <td>1321.538940</td>\n",
       "      <td>7990438824</td>\n",
       "      <td>390.369995</td>\n",
       "      <td>393.700012</td>\n",
       "      <td>387.670013</td>\n",
       "      <td>387.859985</td>\n",
       "      <td>380.869934</td>\n",
       "      <td>73978100</td>\n",
       "    </tr>\n",
       "  </tbody>\n",
       "</table>\n",
       "</div>"
      ],
      "text/plain": [
       "         Date       btcOpen       btcHigh        btcLow      btcClose  \\\n",
       "0  2023-01-03  16688.847656  16760.447266  16622.371094  16679.857422   \n",
       "1  2023-01-04  16680.205078  16964.585938  16667.763672  16863.238281   \n",
       "2  2023-01-05  16863.472656  16884.021484  16790.283203  16836.736328   \n",
       "3  2023-01-06  16836.472656  16991.994141  16716.421875  16951.968750   \n",
       "4  2023-01-09  17093.992188  17389.957031  17093.992188  17196.554688   \n",
       "\n",
       "   btcAdj Close    btcVolume      ethOpen      ethHigh       ethLow  \\\n",
       "0  16679.857422  13903079207  1214.744019  1219.095337  1207.491577   \n",
       "1  16863.238281  18421743322  1214.718628  1264.807495  1213.168823   \n",
       "2  16836.736328  13692758566  1256.484619  1258.571533  1245.173096   \n",
       "3  16951.968750  14413662913  1250.458984  1273.220337  1240.947510   \n",
       "4  17196.554688  18624736866  1287.450806  1342.144165  1286.680786   \n",
       "\n",
       "      ethClose  ethAdj Close   ethVolume     spyOpen     spyHigh      spyLow  \\\n",
       "0  1214.778809   1214.778809  3392972131  384.369995  386.429993  377.829987   \n",
       "1  1256.526611   1256.526611  6404416893  383.179993  385.880005  380.000000   \n",
       "2  1250.438599   1250.438599  4001786456  381.720001  381.839996  378.760010   \n",
       "3  1269.379028   1269.379028  4977252792  382.609985  389.250000  379.410004   \n",
       "4  1321.538940   1321.538940  7990438824  390.369995  393.700012  387.670013   \n",
       "\n",
       "     spyClose  spyAdj Close  spyVolume  \n",
       "0  380.820007    373.956818   74850700  \n",
       "1  383.760010    376.843842   85934100  \n",
       "2  379.380005    372.542755   76970500  \n",
       "3  388.079987    381.085938  104189600  \n",
       "4  387.859985    380.869934   73978100  "
      ]
     },
     "execution_count": 15,
     "metadata": {},
     "output_type": "execute_result"
    }
   ],
   "source": [
    "df.head()"
   ]
  },
  {
   "cell_type": "code",
   "execution_count": 16,
   "id": "2f4b08fb-5245-415e-b3c2-b46f80de5a84",
   "metadata": {},
   "outputs": [
    {
     "data": {
      "text/plain": [
       "(477, 7)"
      ]
     },
     "execution_count": 16,
     "metadata": {},
     "output_type": "execute_result"
    }
   ],
   "source": [
    "btc.shape"
   ]
  },
  {
   "cell_type": "code",
   "execution_count": 17,
   "id": "30124422-dd37-456b-93ee-fff58decb067",
   "metadata": {},
   "outputs": [
    {
     "data": {
      "text/plain": [
       "(326, 7)"
      ]
     },
     "execution_count": 17,
     "metadata": {},
     "output_type": "execute_result"
    }
   ],
   "source": [
    "spy.shape"
   ]
  },
  {
   "cell_type": "code",
   "execution_count": 18,
   "id": "cbc7a85a-51a0-4955-a31b-eef864cf08a0",
   "metadata": {},
   "outputs": [
    {
     "data": {
      "text/plain": [
       "(326, 19)"
      ]
     },
     "execution_count": 18,
     "metadata": {},
     "output_type": "execute_result"
    }
   ],
   "source": [
    "df.shape"
   ]
  },
  {
   "cell_type": "code",
   "execution_count": 19,
   "id": "feaab4a5",
   "metadata": {},
   "outputs": [
    {
     "data": {
      "text/plain": [
       "(326, 19)"
      ]
     },
     "execution_count": 19,
     "metadata": {},
     "output_type": "execute_result"
    }
   ],
   "source": [
    "df.shape"
   ]
  },
  {
   "cell_type": "code",
   "execution_count": 20,
   "id": "8d33b8de",
   "metadata": {},
   "outputs": [],
   "source": [
    "# Remove all string value for convertion Date to float\n",
    "dateColumn = df[\"Date\"]\n",
    "df[\"Date\"] = df[\"Date\"].str.replace(\"-\",'')\n",
    "df[\"Date\"] = pd.to_numeric(df['Date'], errors='coerce',downcast=\"integer\")\n"
   ]
  },
  {
   "cell_type": "code",
   "execution_count": 21,
   "id": "6b20ce6a",
   "metadata": {},
   "outputs": [
    {
     "name": "stdout",
     "output_type": "stream",
     "text": [
      "Date              int32\n",
      "btcOpen         float64\n",
      "btcHigh         float64\n",
      "btcLow          float64\n",
      "btcClose        float64\n",
      "btcAdj Close    float64\n",
      "btcVolume         int64\n",
      "ethOpen         float64\n",
      "ethHigh         float64\n",
      "ethLow          float64\n",
      "ethClose        float64\n",
      "ethAdj Close    float64\n",
      "ethVolume         int64\n",
      "spyOpen         float64\n",
      "spyHigh         float64\n",
      "spyLow          float64\n",
      "spyClose        float64\n",
      "spyAdj Close    float64\n",
      "spyVolume         int64\n",
      "dtype: object\n"
     ]
    }
   ],
   "source": [
    "print(df.dtypes)"
   ]
  },
  {
   "cell_type": "code",
   "execution_count": null,
   "id": "09ef6eda",
   "metadata": {},
   "outputs": [],
   "source": []
  },
  {
   "cell_type": "code",
   "execution_count": 22,
   "id": "07c252ec",
   "metadata": {},
   "outputs": [
    {
     "data": {
      "text/plain": [
       "Index(['Date', 'btcOpen', 'btcHigh', 'btcLow', 'btcClose', 'btcAdj Close',\n",
       "       'btcVolume', 'ethOpen', 'ethHigh', 'ethLow', 'ethClose', 'ethAdj Close',\n",
       "       'ethVolume', 'spyOpen', 'spyHigh', 'spyLow', 'spyClose', 'spyAdj Close',\n",
       "       'spyVolume'],\n",
       "      dtype='object')"
      ]
     },
     "execution_count": 22,
     "metadata": {},
     "output_type": "execute_result"
    }
   ],
   "source": [
    "df.columns"
   ]
  },
  {
   "cell_type": "code",
   "execution_count": 23,
   "id": "cd106360",
   "metadata": {},
   "outputs": [
    {
     "data": {
      "text/html": [
       "<div>\n",
       "<style scoped>\n",
       "    .dataframe tbody tr th:only-of-type {\n",
       "        vertical-align: middle;\n",
       "    }\n",
       "\n",
       "    .dataframe tbody tr th {\n",
       "        vertical-align: top;\n",
       "    }\n",
       "\n",
       "    .dataframe thead th {\n",
       "        text-align: right;\n",
       "    }\n",
       "</style>\n",
       "<table border=\"1\" class=\"dataframe\">\n",
       "  <thead>\n",
       "    <tr style=\"text-align: right;\">\n",
       "      <th></th>\n",
       "      <th>Date</th>\n",
       "      <th>btcOpen</th>\n",
       "      <th>btcHigh</th>\n",
       "      <th>btcLow</th>\n",
       "      <th>btcClose</th>\n",
       "      <th>btcAdj Close</th>\n",
       "      <th>btcVolume</th>\n",
       "      <th>ethOpen</th>\n",
       "      <th>ethHigh</th>\n",
       "      <th>ethLow</th>\n",
       "      <th>ethClose</th>\n",
       "      <th>ethAdj Close</th>\n",
       "      <th>ethVolume</th>\n",
       "      <th>spyOpen</th>\n",
       "      <th>spyHigh</th>\n",
       "      <th>spyLow</th>\n",
       "      <th>spyClose</th>\n",
       "      <th>spyAdj Close</th>\n",
       "      <th>spyVolume</th>\n",
       "    </tr>\n",
       "  </thead>\n",
       "  <tbody>\n",
       "    <tr>\n",
       "      <th>0</th>\n",
       "      <td>20230103</td>\n",
       "      <td>16688.847656</td>\n",
       "      <td>16760.447266</td>\n",
       "      <td>16622.371094</td>\n",
       "      <td>16679.857422</td>\n",
       "      <td>16679.857422</td>\n",
       "      <td>13903079207</td>\n",
       "      <td>1214.744019</td>\n",
       "      <td>1219.095337</td>\n",
       "      <td>1207.491577</td>\n",
       "      <td>1214.778809</td>\n",
       "      <td>1214.778809</td>\n",
       "      <td>3392972131</td>\n",
       "      <td>384.369995</td>\n",
       "      <td>386.429993</td>\n",
       "      <td>377.829987</td>\n",
       "      <td>380.820007</td>\n",
       "      <td>373.956818</td>\n",
       "      <td>74850700</td>\n",
       "    </tr>\n",
       "    <tr>\n",
       "      <th>1</th>\n",
       "      <td>20230104</td>\n",
       "      <td>16680.205078</td>\n",
       "      <td>16964.585938</td>\n",
       "      <td>16667.763672</td>\n",
       "      <td>16863.238281</td>\n",
       "      <td>16863.238281</td>\n",
       "      <td>18421743322</td>\n",
       "      <td>1214.718628</td>\n",
       "      <td>1264.807495</td>\n",
       "      <td>1213.168823</td>\n",
       "      <td>1256.526611</td>\n",
       "      <td>1256.526611</td>\n",
       "      <td>6404416893</td>\n",
       "      <td>383.179993</td>\n",
       "      <td>385.880005</td>\n",
       "      <td>380.000000</td>\n",
       "      <td>383.760010</td>\n",
       "      <td>376.843842</td>\n",
       "      <td>85934100</td>\n",
       "    </tr>\n",
       "    <tr>\n",
       "      <th>2</th>\n",
       "      <td>20230105</td>\n",
       "      <td>16863.472656</td>\n",
       "      <td>16884.021484</td>\n",
       "      <td>16790.283203</td>\n",
       "      <td>16836.736328</td>\n",
       "      <td>16836.736328</td>\n",
       "      <td>13692758566</td>\n",
       "      <td>1256.484619</td>\n",
       "      <td>1258.571533</td>\n",
       "      <td>1245.173096</td>\n",
       "      <td>1250.438599</td>\n",
       "      <td>1250.438599</td>\n",
       "      <td>4001786456</td>\n",
       "      <td>381.720001</td>\n",
       "      <td>381.839996</td>\n",
       "      <td>378.760010</td>\n",
       "      <td>379.380005</td>\n",
       "      <td>372.542755</td>\n",
       "      <td>76970500</td>\n",
       "    </tr>\n",
       "    <tr>\n",
       "      <th>3</th>\n",
       "      <td>20230106</td>\n",
       "      <td>16836.472656</td>\n",
       "      <td>16991.994141</td>\n",
       "      <td>16716.421875</td>\n",
       "      <td>16951.968750</td>\n",
       "      <td>16951.968750</td>\n",
       "      <td>14413662913</td>\n",
       "      <td>1250.458984</td>\n",
       "      <td>1273.220337</td>\n",
       "      <td>1240.947510</td>\n",
       "      <td>1269.379028</td>\n",
       "      <td>1269.379028</td>\n",
       "      <td>4977252792</td>\n",
       "      <td>382.609985</td>\n",
       "      <td>389.250000</td>\n",
       "      <td>379.410004</td>\n",
       "      <td>388.079987</td>\n",
       "      <td>381.085938</td>\n",
       "      <td>104189600</td>\n",
       "    </tr>\n",
       "    <tr>\n",
       "      <th>4</th>\n",
       "      <td>20230109</td>\n",
       "      <td>17093.992188</td>\n",
       "      <td>17389.957031</td>\n",
       "      <td>17093.992188</td>\n",
       "      <td>17196.554688</td>\n",
       "      <td>17196.554688</td>\n",
       "      <td>18624736866</td>\n",
       "      <td>1287.450806</td>\n",
       "      <td>1342.144165</td>\n",
       "      <td>1286.680786</td>\n",
       "      <td>1321.538940</td>\n",
       "      <td>1321.538940</td>\n",
       "      <td>7990438824</td>\n",
       "      <td>390.369995</td>\n",
       "      <td>393.700012</td>\n",
       "      <td>387.670013</td>\n",
       "      <td>387.859985</td>\n",
       "      <td>380.869934</td>\n",
       "      <td>73978100</td>\n",
       "    </tr>\n",
       "    <tr>\n",
       "      <th>5</th>\n",
       "      <td>20230110</td>\n",
       "      <td>17192.949219</td>\n",
       "      <td>17484.720703</td>\n",
       "      <td>17162.990234</td>\n",
       "      <td>17446.292969</td>\n",
       "      <td>17446.292969</td>\n",
       "      <td>15808338949</td>\n",
       "      <td>1321.395508</td>\n",
       "      <td>1342.757202</td>\n",
       "      <td>1318.527222</td>\n",
       "      <td>1336.586060</td>\n",
       "      <td>1336.586060</td>\n",
       "      <td>5830173253</td>\n",
       "      <td>387.250000</td>\n",
       "      <td>390.649994</td>\n",
       "      <td>386.269989</td>\n",
       "      <td>390.579987</td>\n",
       "      <td>383.540924</td>\n",
       "      <td>65358100</td>\n",
       "    </tr>\n",
       "    <tr>\n",
       "      <th>6</th>\n",
       "      <td>20230111</td>\n",
       "      <td>17446.359375</td>\n",
       "      <td>17934.896484</td>\n",
       "      <td>17337.994141</td>\n",
       "      <td>17934.896484</td>\n",
       "      <td>17934.896484</td>\n",
       "      <td>18372283782</td>\n",
       "      <td>1336.486816</td>\n",
       "      <td>1387.932739</td>\n",
       "      <td>1323.583130</td>\n",
       "      <td>1387.932739</td>\n",
       "      <td>1387.932739</td>\n",
       "      <td>6314904311</td>\n",
       "      <td>392.230011</td>\n",
       "      <td>395.600006</td>\n",
       "      <td>391.380005</td>\n",
       "      <td>395.519989</td>\n",
       "      <td>388.391876</td>\n",
       "      <td>68881100</td>\n",
       "    </tr>\n",
       "    <tr>\n",
       "      <th>7</th>\n",
       "      <td>20230112</td>\n",
       "      <td>18117.593750</td>\n",
       "      <td>19030.087891</td>\n",
       "      <td>17995.203125</td>\n",
       "      <td>18869.587891</td>\n",
       "      <td>18869.587891</td>\n",
       "      <td>34971338710</td>\n",
       "      <td>1405.351440</td>\n",
       "      <td>1432.281250</td>\n",
       "      <td>1378.422119</td>\n",
       "      <td>1417.938477</td>\n",
       "      <td>1417.938477</td>\n",
       "      <td>12230193038</td>\n",
       "      <td>396.670013</td>\n",
       "      <td>398.489990</td>\n",
       "      <td>392.420013</td>\n",
       "      <td>396.959991</td>\n",
       "      <td>389.805939</td>\n",
       "      <td>90157700</td>\n",
       "    </tr>\n",
       "    <tr>\n",
       "      <th>8</th>\n",
       "      <td>20230113</td>\n",
       "      <td>18868.906250</td>\n",
       "      <td>19964.322266</td>\n",
       "      <td>18753.164063</td>\n",
       "      <td>19909.574219</td>\n",
       "      <td>19909.574219</td>\n",
       "      <td>29225029694</td>\n",
       "      <td>1417.946167</td>\n",
       "      <td>1461.672729</td>\n",
       "      <td>1404.023926</td>\n",
       "      <td>1451.614868</td>\n",
       "      <td>1451.614868</td>\n",
       "      <td>7684148212</td>\n",
       "      <td>393.619995</td>\n",
       "      <td>399.100006</td>\n",
       "      <td>393.339996</td>\n",
       "      <td>398.500000</td>\n",
       "      <td>391.318146</td>\n",
       "      <td>63903900</td>\n",
       "    </tr>\n",
       "    <tr>\n",
       "      <th>9</th>\n",
       "      <td>20230117</td>\n",
       "      <td>21175.833984</td>\n",
       "      <td>21438.660156</td>\n",
       "      <td>20978.533203</td>\n",
       "      <td>21161.519531</td>\n",
       "      <td>21161.519531</td>\n",
       "      <td>24999983362</td>\n",
       "      <td>1577.107422</td>\n",
       "      <td>1594.000977</td>\n",
       "      <td>1553.335938</td>\n",
       "      <td>1567.846069</td>\n",
       "      <td>1567.846069</td>\n",
       "      <td>7599462786</td>\n",
       "      <td>398.480011</td>\n",
       "      <td>400.230011</td>\n",
       "      <td>397.059998</td>\n",
       "      <td>397.769989</td>\n",
       "      <td>390.601318</td>\n",
       "      <td>62677300</td>\n",
       "    </tr>\n",
       "  </tbody>\n",
       "</table>\n",
       "</div>"
      ],
      "text/plain": [
       "       Date       btcOpen       btcHigh        btcLow      btcClose  \\\n",
       "0  20230103  16688.847656  16760.447266  16622.371094  16679.857422   \n",
       "1  20230104  16680.205078  16964.585938  16667.763672  16863.238281   \n",
       "2  20230105  16863.472656  16884.021484  16790.283203  16836.736328   \n",
       "3  20230106  16836.472656  16991.994141  16716.421875  16951.968750   \n",
       "4  20230109  17093.992188  17389.957031  17093.992188  17196.554688   \n",
       "5  20230110  17192.949219  17484.720703  17162.990234  17446.292969   \n",
       "6  20230111  17446.359375  17934.896484  17337.994141  17934.896484   \n",
       "7  20230112  18117.593750  19030.087891  17995.203125  18869.587891   \n",
       "8  20230113  18868.906250  19964.322266  18753.164063  19909.574219   \n",
       "9  20230117  21175.833984  21438.660156  20978.533203  21161.519531   \n",
       "\n",
       "   btcAdj Close    btcVolume      ethOpen      ethHigh       ethLow  \\\n",
       "0  16679.857422  13903079207  1214.744019  1219.095337  1207.491577   \n",
       "1  16863.238281  18421743322  1214.718628  1264.807495  1213.168823   \n",
       "2  16836.736328  13692758566  1256.484619  1258.571533  1245.173096   \n",
       "3  16951.968750  14413662913  1250.458984  1273.220337  1240.947510   \n",
       "4  17196.554688  18624736866  1287.450806  1342.144165  1286.680786   \n",
       "5  17446.292969  15808338949  1321.395508  1342.757202  1318.527222   \n",
       "6  17934.896484  18372283782  1336.486816  1387.932739  1323.583130   \n",
       "7  18869.587891  34971338710  1405.351440  1432.281250  1378.422119   \n",
       "8  19909.574219  29225029694  1417.946167  1461.672729  1404.023926   \n",
       "9  21161.519531  24999983362  1577.107422  1594.000977  1553.335938   \n",
       "\n",
       "      ethClose  ethAdj Close    ethVolume     spyOpen     spyHigh      spyLow  \\\n",
       "0  1214.778809   1214.778809   3392972131  384.369995  386.429993  377.829987   \n",
       "1  1256.526611   1256.526611   6404416893  383.179993  385.880005  380.000000   \n",
       "2  1250.438599   1250.438599   4001786456  381.720001  381.839996  378.760010   \n",
       "3  1269.379028   1269.379028   4977252792  382.609985  389.250000  379.410004   \n",
       "4  1321.538940   1321.538940   7990438824  390.369995  393.700012  387.670013   \n",
       "5  1336.586060   1336.586060   5830173253  387.250000  390.649994  386.269989   \n",
       "6  1387.932739   1387.932739   6314904311  392.230011  395.600006  391.380005   \n",
       "7  1417.938477   1417.938477  12230193038  396.670013  398.489990  392.420013   \n",
       "8  1451.614868   1451.614868   7684148212  393.619995  399.100006  393.339996   \n",
       "9  1567.846069   1567.846069   7599462786  398.480011  400.230011  397.059998   \n",
       "\n",
       "     spyClose  spyAdj Close  spyVolume  \n",
       "0  380.820007    373.956818   74850700  \n",
       "1  383.760010    376.843842   85934100  \n",
       "2  379.380005    372.542755   76970500  \n",
       "3  388.079987    381.085938  104189600  \n",
       "4  387.859985    380.869934   73978100  \n",
       "5  390.579987    383.540924   65358100  \n",
       "6  395.519989    388.391876   68881100  \n",
       "7  396.959991    389.805939   90157700  \n",
       "8  398.500000    391.318146   63903900  \n",
       "9  397.769989    390.601318   62677300  "
      ]
     },
     "execution_count": 23,
     "metadata": {},
     "output_type": "execute_result"
    }
   ],
   "source": [
    "df.head(10)"
   ]
  },
  {
   "cell_type": "markdown",
   "id": "2adfa4e6",
   "metadata": {},
   "source": [
    "### Updated Linear Regression from scratch for predicting high"
   ]
  },
  {
   "cell_type": "code",
   "execution_count": 24,
   "id": "746a21f0",
   "metadata": {},
   "outputs": [],
   "source": [
    "class LinearRegressionRegularization:\n",
    "    def __init__(self, max_iter=10,  learningRate=50, random_state=None):\n",
    "        self.max_iter_ = max_iter\n",
    "        self.alpha = learningRate\n",
    "        self.random_state_ = random_state\n",
    "        self.w_ = [0,0,0,0,0,0,0,0,0,0,0,0,0,0,0,0,0]\n",
    "        self.w0 = 0\n",
    "        \n",
    "    def _split(self, X, y, ratio, random_state):\n",
    "        header = X.columns\n",
    "        # remove header for shuffling \n",
    "        x_data = X.values\n",
    "\n",
    "        random.seed(random_state)\n",
    "        train_ratio = ratio\n",
    "        test_ratio = 1 - train_ratio\n",
    "        \n",
    "        total_data_sample = len(X)\n",
    "        train_samples = int(total_data_sample * train_ratio)\n",
    "        test_samples = total_data_sample - train_samples\n",
    "\n",
    "        random.shuffle(x_data)\n",
    "        shuffled_data = pd.DataFrame(x_data, columns=header)\n",
    "\n",
    "        train_data = shuffled_data.head(train_samples)\n",
    "        test_data = shuffled_data.head(test_samples)\n",
    "        \n",
    "        return train_data, test_data\n",
    "        \n",
    "    def _predict(self, x_train, y_train):\n",
    "        #TO-DO : Add Regularization \n",
    "        \n",
    "        x_train_array = x_train.to_numpy()\n",
    "        m = len(y_train) # number of features \n",
    "        #Initial weights \n",
    "        tempWeights = [0,0,0,0,0,0,0,0,0,0,0,0,0,0,0,0,0] \n",
    "        tempW0 = 0\n",
    "        y_pred_btc = tempW0\n",
    "        \n",
    "        for idx in range (self.max_iter_): \n",
    "            for i in range (m):\n",
    "                summation = []\n",
    "                xi = x_train_array[i, :]\n",
    "                y_pred_btc = tempW0\n",
    "                for k in range (17):\n",
    "                    y_pred_btc += self.w_[k] * xi[k]\n",
    "                summation.append(y_pred_btc - y_train)\n",
    "\n",
    "                derivative = 2/m * sum(summation)\n",
    "                tempW0 = self.w0 - (self.alpha * derivative)\n",
    "\n",
    "            for j in range (17):\n",
    "                for i in range (m): \n",
    "                    summation = []\n",
    "                    xi = x_train_array[i, :]\n",
    "                    y_pred_btc = tempW0 \n",
    "                    for k in range (17):\n",
    "                        y_pred_btc += self.w_[k] * xi[k]  \n",
    "\n",
    "                    summation.append(y_pred_btc - y_train)\n",
    "                derivative = 2/m * sum(summation)\n",
    "                tempWeights.append(self.w_[j] - (self.alpha * derivative))    \n",
    "\n",
    "            #The previous iteration \n",
    "            last_17 = tempWeights[-17:]\n",
    "\n",
    "            #Assigning new weight values to old weights\n",
    "            for n in range (17):\n",
    "                tempWeights[n] = last_17[n]\n",
    "            self.w0 = tempW0\n",
    "            #next iteration\n",
    "\n",
    "        final_weights = tempWeights[:17]\n",
    "        self.w_ = final_weights\n",
    "        \n",
    "        return y_pred_btc\n",
    "    \n"
   ]
  },
  {
   "cell_type": "markdown",
   "id": "65ae71b6",
   "metadata": {},
   "source": [
    "### Utils for updating data sets "
   ]
  },
  {
   "cell_type": "code",
   "execution_count": 25,
   "id": "b894091d",
   "metadata": {},
   "outputs": [],
   "source": [
    "class Utils:\n",
    "    \n",
    "    def _updateTrainingData(self, x_train):\n",
    "        for i in x_train.columns:\n",
    "            if i != 'Date':\n",
    "                x_train['yesterday_' +i] = x_train[i]\n",
    "                x_train['twoDaysAgo_' +i] = x_train[i]\n",
    "                x_train['threeDaysAgo_' +i] = x_train[i]\n",
    "                x_train['fourDaysAgo_' +i] = x_train[i]\n",
    "                x_train['fiveDaysAgo_' +i] = x_train[i]\n",
    "                x_train['sixDaysAgo_' +i] = x_train[i]\n",
    "                x_train['sevenDaysAgo_' +i] = x_train[i]\n",
    "                x_train['yesterday_' +i] = x_train['yesterday_' +i].shift(1)\n",
    "                x_train['twoDaysAgo_' +i] = x_train['twoDaysAgo_' +i].shift(2)\n",
    "                x_train['threeDaysAgo_' +i] = x_train['threeDaysAgo_' +i].shift(3)\n",
    "                x_train['fourDaysAgo_' +i] = x_train['fourDaysAgo_' +i].shift(4)\n",
    "                x_train['fiveDaysAgo_' +i] = x_train['fiveDaysAgo_' +i].shift(5)\n",
    "                x_train['sixDaysAgo_' +i] = x_train['sixDaysAgo_' +i].shift(6)\n",
    "                x_train['sevenDaysAgo_' +i] = x_train['sevenDaysAgo_' +i].shift(7)\n",
    "                x_train = x_train.drop(i, axis = 1)\n",
    "        return x_train\n",
    "    \n",
    "    def _updateDate(self, x_train):\n",
    "        x_train[\"Date\"]\n",
    "        x_train['Date'] = x_train['Date'].astype(str)\n",
    "        \n",
    "        for k in range (len(x_train[\"Date\"])):\n",
    "            size = len(x_train[\"Date\"][k])\n",
    "            string = x_train[\"Date\"][k]\n",
    "            substring_to_remove = \".0\"\n",
    "            x_train.loc[k]['Date'] = string.replace(substring_to_remove, \"\")\n",
    "\n",
    "        for k in range (len(x_train[\"Date\"])):\n",
    "            size = len(x_train[\"Date\"][k])\n",
    "            string = x_train[\"Date\"][k]\n",
    "            x_train.loc[k]['Date'] = string[:4] + \"-\" + string[4:]\n",
    "            #print(result)\n",
    "\n",
    "        for k in range (len(x_train[\"Date\"])):\n",
    "            size = len(x_train[\"Date\"][k])\n",
    "            string = x_train[\"Date\"][k]\n",
    "            x_train.loc[k]['Date'] = string[:7] + \"-\" + string[7:]\n",
    "        \n",
    "        return x_train['Date']\n",
    "    \n",
    "    def _replaceNanY(self, y_train):\n",
    "        column_means_7days =  y_train.tail(7).mean()\n",
    "        df_filled = y_train_btcHigh.fillna(column_means_7days)\n",
    "        y_train = df_filled\n",
    "        \n",
    "        return y_train\n",
    "    \n",
    "    def _replaceNanX(self, x_train):\n",
    "        column_means = x_train.mean()\n",
    "        df_filled = x_train.fillna(column_means)\n",
    "        x_train = df_filled\n",
    "        \n",
    "        return x_train\n",
    "    \n",
    "    def _newTrainingData(self, new_row, x_train):\n",
    "        index = len(x_train)\n",
    "        x_train.loc[index] = new_row\n",
    "        x_train_temp = x_train\n",
    "        return x_train_temp\n",
    "\n",
    "    \n",
    "    def _newTrainLabel(self, y_train):\n",
    "        column_means_7days = y_train.tail(7).mean()\n",
    "        new_row = pd.Series({'btcHigh': column_means_7days})\n",
    "        y_train_temp = y_train.append(new_row, ignore_index=True)\n",
    "        return y_train_temp\n",
    "    \n",
    "    \n",
    "    "
   ]
  },
  {
   "cell_type": "markdown",
   "id": "92567b2b",
   "metadata": {},
   "source": [
    "### Pedictor class to call predictor model"
   ]
  },
  {
   "cell_type": "code",
   "execution_count": 26,
   "id": "005c24a7",
   "metadata": {},
   "outputs": [],
   "source": [
    "class Predictor: \n",
    "    def __init__(self, X, y):\n",
    "        self.X = X\n",
    "        self.y = y\n",
    "        self.y_btcHigh_pred = []\n",
    "        self.x_btcHigh_train = []\n",
    "        self.y_btcHigh_train = []\n",
    "        \n",
    "    def getAllPredictionsBTCHigh(self):\n",
    "        return self.y_btcHigh_pred\n",
    "    \n",
    "    def getAllXTrainBTCHigh(self):\n",
    "        return self.x_btcHigh_train\n",
    "    \n",
    "    def getAllYTrainBTCHigh(self):\n",
    "        return self.y_btcHigh_train\n",
    "    \n",
    "        \n",
    "    def _predictWithLinearRegression(self, date=None):\n",
    "    \n",
    "        model = LinearRegressionRegularization()\n",
    "        utils = Utils()\n",
    "        \n",
    "        #New training data\n",
    "        if (date!=None): \n",
    "            self.X = utils._newTrainingData({'Date': date}, self.X)\n",
    "            \n",
    "        # Split the data into training subsets\n",
    "        train_data, test_data, = model._split(self.X, self.y, ratio=0.7, random_state=123 )\n",
    "        X_train_btcHigh = train_data.drop(columns=['btcHigh'])\n",
    "        y_train_btcHigh = train_data['btcHigh']\n",
    "        #Adjust training data \n",
    "        X_train_btcHigh = utils._updateTrainingData(X_train_btcHigh)\n",
    "        X_train_btcHigh = utils._replaceNanX(X_train_btcHigh)\n",
    "        has_nan = X_train_btcHigh.isna().any().any()\n",
    "        if (has_nan != True):\n",
    "            #Predict\n",
    "            y_pred_btcHigh = model._predict(X_train_btcHigh, y_train_btcHigh)\n",
    "        else:\n",
    "            print (\"Training Data contains Nan values, \", has_nan)\n",
    "        pd.options.mode.chained_assignment = None  #Hide warning\n",
    "        X_train_btcHigh[\"Date\"] = utils._updateDate(X_train_btcHigh)\n",
    "        \n",
    "        self.y_btcHigh_pred = y_pred_btcHigh \n",
    "        self.x_btcHigh_train = X_train_btcHigh \n",
    "        self.y_btcHigh_train = y_train_btcHigh \n",
    "        \n",
    "        return y_pred_btcHigh.tail(1).to_string(index=False)\n",
    "        "
   ]
  },
  {
   "cell_type": "markdown",
   "id": "61a8cf48",
   "metadata": {},
   "source": [
    "###  Predict the BTC high price"
   ]
  },
  {
   "cell_type": "code",
   "execution_count": 27,
   "id": "3423c395",
   "metadata": {},
   "outputs": [],
   "source": [
    "X = df\n",
    "y = df['btcHigh']\n",
    "\n",
    "#Use the predictor class to run predictions\n",
    "predictor = Predictor(X,y)\n",
    "predictor._predictWithLinearRegression()\n",
    "y_pred_btcHigh = predictor.getAllPredictionsBTCHigh()\n",
    "X_train_btcHigh = predictor.getAllXTrainBTCHigh()\n",
    "y_train_btcHigh = predictor.getAllYTrainBTCHigh()"
   ]
  },
  {
   "cell_type": "code",
   "execution_count": 28,
   "id": "9323063c",
   "metadata": {},
   "outputs": [
    {
     "data": {
      "text/html": [
       "<div>\n",
       "<style scoped>\n",
       "    .dataframe tbody tr th:only-of-type {\n",
       "        vertical-align: middle;\n",
       "    }\n",
       "\n",
       "    .dataframe tbody tr th {\n",
       "        vertical-align: top;\n",
       "    }\n",
       "\n",
       "    .dataframe thead th {\n",
       "        text-align: right;\n",
       "    }\n",
       "</style>\n",
       "<table border=\"1\" class=\"dataframe\">\n",
       "  <thead>\n",
       "    <tr style=\"text-align: right;\">\n",
       "      <th></th>\n",
       "      <th>Date</th>\n",
       "      <th>yesterday_btcOpen</th>\n",
       "      <th>twoDaysAgo_btcOpen</th>\n",
       "      <th>threeDaysAgo_btcOpen</th>\n",
       "      <th>fourDaysAgo_btcOpen</th>\n",
       "      <th>fiveDaysAgo_btcOpen</th>\n",
       "      <th>sixDaysAgo_btcOpen</th>\n",
       "      <th>sevenDaysAgo_btcOpen</th>\n",
       "      <th>yesterday_btcLow</th>\n",
       "      <th>twoDaysAgo_btcLow</th>\n",
       "      <th>...</th>\n",
       "      <th>fiveDaysAgo_spyAdj Close</th>\n",
       "      <th>sixDaysAgo_spyAdj Close</th>\n",
       "      <th>sevenDaysAgo_spyAdj Close</th>\n",
       "      <th>yesterday_spyVolume</th>\n",
       "      <th>twoDaysAgo_spyVolume</th>\n",
       "      <th>threeDaysAgo_spyVolume</th>\n",
       "      <th>fourDaysAgo_spyVolume</th>\n",
       "      <th>fiveDaysAgo_spyVolume</th>\n",
       "      <th>sixDaysAgo_spyVolume</th>\n",
       "      <th>sevenDaysAgo_spyVolume</th>\n",
       "    </tr>\n",
       "  </thead>\n",
       "  <tbody>\n",
       "    <tr>\n",
       "      <th>0</th>\n",
       "      <td>20230103.0</td>\n",
       "      <td>24132.090997</td>\n",
       "      <td>24127.712312</td>\n",
       "      <td>24116.058177</td>\n",
       "      <td>24099.011684</td>\n",
       "      <td>24073.014504</td>\n",
       "      <td>24088.267965</td>\n",
       "      <td>24120.959347</td>\n",
       "      <td>23741.355753</td>\n",
       "      <td>23736.684017</td>\n",
       "      <td>...</td>\n",
       "      <td>402.256368</td>\n",
       "      <td>402.349253</td>\n",
       "      <td>402.484124</td>\n",
       "      <td>8.299598e+07</td>\n",
       "      <td>8.287515e+07</td>\n",
       "      <td>8.297350e+07</td>\n",
       "      <td>8.298511e+07</td>\n",
       "      <td>8.294435e+07</td>\n",
       "      <td>8.292626e+07</td>\n",
       "      <td>8.295321e+07</td>\n",
       "    </tr>\n",
       "    <tr>\n",
       "      <th>1</th>\n",
       "      <td>20230103.0</td>\n",
       "      <td>16688.847656</td>\n",
       "      <td>24127.712312</td>\n",
       "      <td>24116.058177</td>\n",
       "      <td>24099.011684</td>\n",
       "      <td>24073.014504</td>\n",
       "      <td>24088.267965</td>\n",
       "      <td>24120.959347</td>\n",
       "      <td>16622.371094</td>\n",
       "      <td>23736.684017</td>\n",
       "      <td>...</td>\n",
       "      <td>402.256368</td>\n",
       "      <td>402.349253</td>\n",
       "      <td>402.484124</td>\n",
       "      <td>7.485070e+07</td>\n",
       "      <td>8.287515e+07</td>\n",
       "      <td>8.297350e+07</td>\n",
       "      <td>8.298511e+07</td>\n",
       "      <td>8.294435e+07</td>\n",
       "      <td>8.292626e+07</td>\n",
       "      <td>8.295321e+07</td>\n",
       "    </tr>\n",
       "    <tr>\n",
       "      <th>2</th>\n",
       "      <td>20230104.0</td>\n",
       "      <td>16688.847656</td>\n",
       "      <td>16688.847656</td>\n",
       "      <td>24116.058177</td>\n",
       "      <td>24099.011684</td>\n",
       "      <td>24073.014504</td>\n",
       "      <td>24088.267965</td>\n",
       "      <td>24120.959347</td>\n",
       "      <td>16622.371094</td>\n",
       "      <td>16622.371094</td>\n",
       "      <td>...</td>\n",
       "      <td>402.256368</td>\n",
       "      <td>402.349253</td>\n",
       "      <td>402.484124</td>\n",
       "      <td>7.485070e+07</td>\n",
       "      <td>7.485070e+07</td>\n",
       "      <td>8.297350e+07</td>\n",
       "      <td>8.298511e+07</td>\n",
       "      <td>8.294435e+07</td>\n",
       "      <td>8.292626e+07</td>\n",
       "      <td>8.295321e+07</td>\n",
       "    </tr>\n",
       "    <tr>\n",
       "      <th>3</th>\n",
       "      <td>20230105.0</td>\n",
       "      <td>16680.205078</td>\n",
       "      <td>16688.847656</td>\n",
       "      <td>16688.847656</td>\n",
       "      <td>24099.011684</td>\n",
       "      <td>24073.014504</td>\n",
       "      <td>24088.267965</td>\n",
       "      <td>24120.959347</td>\n",
       "      <td>16667.763672</td>\n",
       "      <td>16622.371094</td>\n",
       "      <td>...</td>\n",
       "      <td>402.256368</td>\n",
       "      <td>402.349253</td>\n",
       "      <td>402.484124</td>\n",
       "      <td>8.593410e+07</td>\n",
       "      <td>7.485070e+07</td>\n",
       "      <td>7.485070e+07</td>\n",
       "      <td>8.298511e+07</td>\n",
       "      <td>8.294435e+07</td>\n",
       "      <td>8.292626e+07</td>\n",
       "      <td>8.295321e+07</td>\n",
       "    </tr>\n",
       "    <tr>\n",
       "      <th>4</th>\n",
       "      <td>20230104.0</td>\n",
       "      <td>16863.472656</td>\n",
       "      <td>16680.205078</td>\n",
       "      <td>16688.847656</td>\n",
       "      <td>16688.847656</td>\n",
       "      <td>24073.014504</td>\n",
       "      <td>24088.267965</td>\n",
       "      <td>24120.959347</td>\n",
       "      <td>16790.283203</td>\n",
       "      <td>16667.763672</td>\n",
       "      <td>...</td>\n",
       "      <td>402.256368</td>\n",
       "      <td>402.349253</td>\n",
       "      <td>402.484124</td>\n",
       "      <td>7.697050e+07</td>\n",
       "      <td>8.593410e+07</td>\n",
       "      <td>7.485070e+07</td>\n",
       "      <td>7.485070e+07</td>\n",
       "      <td>8.294435e+07</td>\n",
       "      <td>8.292626e+07</td>\n",
       "      <td>8.295321e+07</td>\n",
       "    </tr>\n",
       "    <tr>\n",
       "      <th>5</th>\n",
       "      <td>20230109.0</td>\n",
       "      <td>16680.205078</td>\n",
       "      <td>16863.472656</td>\n",
       "      <td>16680.205078</td>\n",
       "      <td>16688.847656</td>\n",
       "      <td>16688.847656</td>\n",
       "      <td>24088.267965</td>\n",
       "      <td>24120.959347</td>\n",
       "      <td>16667.763672</td>\n",
       "      <td>16790.283203</td>\n",
       "      <td>...</td>\n",
       "      <td>373.956818</td>\n",
       "      <td>402.349253</td>\n",
       "      <td>402.484124</td>\n",
       "      <td>8.593410e+07</td>\n",
       "      <td>7.697050e+07</td>\n",
       "      <td>8.593410e+07</td>\n",
       "      <td>7.485070e+07</td>\n",
       "      <td>7.485070e+07</td>\n",
       "      <td>8.292626e+07</td>\n",
       "      <td>8.295321e+07</td>\n",
       "    </tr>\n",
       "    <tr>\n",
       "      <th>6</th>\n",
       "      <td>20230106.0</td>\n",
       "      <td>17093.992188</td>\n",
       "      <td>16680.205078</td>\n",
       "      <td>16863.472656</td>\n",
       "      <td>16680.205078</td>\n",
       "      <td>16688.847656</td>\n",
       "      <td>16688.847656</td>\n",
       "      <td>24120.959347</td>\n",
       "      <td>17093.992188</td>\n",
       "      <td>16667.763672</td>\n",
       "      <td>...</td>\n",
       "      <td>373.956818</td>\n",
       "      <td>373.956818</td>\n",
       "      <td>402.484124</td>\n",
       "      <td>7.397810e+07</td>\n",
       "      <td>8.593410e+07</td>\n",
       "      <td>7.697050e+07</td>\n",
       "      <td>8.593410e+07</td>\n",
       "      <td>7.485070e+07</td>\n",
       "      <td>7.485070e+07</td>\n",
       "      <td>8.295321e+07</td>\n",
       "    </tr>\n",
       "    <tr>\n",
       "      <th>7</th>\n",
       "      <td>20230103.0</td>\n",
       "      <td>16836.472656</td>\n",
       "      <td>17093.992188</td>\n",
       "      <td>16680.205078</td>\n",
       "      <td>16863.472656</td>\n",
       "      <td>16680.205078</td>\n",
       "      <td>16688.847656</td>\n",
       "      <td>16688.847656</td>\n",
       "      <td>16716.421875</td>\n",
       "      <td>17093.992188</td>\n",
       "      <td>...</td>\n",
       "      <td>376.843842</td>\n",
       "      <td>373.956818</td>\n",
       "      <td>373.956818</td>\n",
       "      <td>1.041896e+08</td>\n",
       "      <td>7.397810e+07</td>\n",
       "      <td>8.593410e+07</td>\n",
       "      <td>7.697050e+07</td>\n",
       "      <td>8.593410e+07</td>\n",
       "      <td>7.485070e+07</td>\n",
       "      <td>7.485070e+07</td>\n",
       "    </tr>\n",
       "    <tr>\n",
       "      <th>8</th>\n",
       "      <td>20230113.0</td>\n",
       "      <td>16688.847656</td>\n",
       "      <td>16836.472656</td>\n",
       "      <td>17093.992188</td>\n",
       "      <td>16680.205078</td>\n",
       "      <td>16863.472656</td>\n",
       "      <td>16680.205078</td>\n",
       "      <td>16688.847656</td>\n",
       "      <td>16622.371094</td>\n",
       "      <td>16716.421875</td>\n",
       "      <td>...</td>\n",
       "      <td>372.542755</td>\n",
       "      <td>376.843842</td>\n",
       "      <td>373.956818</td>\n",
       "      <td>7.485070e+07</td>\n",
       "      <td>1.041896e+08</td>\n",
       "      <td>7.397810e+07</td>\n",
       "      <td>8.593410e+07</td>\n",
       "      <td>7.697050e+07</td>\n",
       "      <td>8.593410e+07</td>\n",
       "      <td>7.485070e+07</td>\n",
       "    </tr>\n",
       "    <tr>\n",
       "      <th>9</th>\n",
       "      <td>20230112.0</td>\n",
       "      <td>18868.906250</td>\n",
       "      <td>16688.847656</td>\n",
       "      <td>16836.472656</td>\n",
       "      <td>17093.992188</td>\n",
       "      <td>16680.205078</td>\n",
       "      <td>16863.472656</td>\n",
       "      <td>16680.205078</td>\n",
       "      <td>18753.164063</td>\n",
       "      <td>16622.371094</td>\n",
       "      <td>...</td>\n",
       "      <td>376.843842</td>\n",
       "      <td>372.542755</td>\n",
       "      <td>376.843842</td>\n",
       "      <td>6.390390e+07</td>\n",
       "      <td>7.485070e+07</td>\n",
       "      <td>1.041896e+08</td>\n",
       "      <td>7.397810e+07</td>\n",
       "      <td>8.593410e+07</td>\n",
       "      <td>7.697050e+07</td>\n",
       "      <td>8.593410e+07</td>\n",
       "    </tr>\n",
       "  </tbody>\n",
       "</table>\n",
       "<p>10 rows × 120 columns</p>\n",
       "</div>"
      ],
      "text/plain": [
       "         Date  yesterday_btcOpen  twoDaysAgo_btcOpen  threeDaysAgo_btcOpen  \\\n",
       "0  20230103.0       24132.090997        24127.712312          24116.058177   \n",
       "1  20230103.0       16688.847656        24127.712312          24116.058177   \n",
       "2  20230104.0       16688.847656        16688.847656          24116.058177   \n",
       "3  20230105.0       16680.205078        16688.847656          16688.847656   \n",
       "4  20230104.0       16863.472656        16680.205078          16688.847656   \n",
       "5  20230109.0       16680.205078        16863.472656          16680.205078   \n",
       "6  20230106.0       17093.992188        16680.205078          16863.472656   \n",
       "7  20230103.0       16836.472656        17093.992188          16680.205078   \n",
       "8  20230113.0       16688.847656        16836.472656          17093.992188   \n",
       "9  20230112.0       18868.906250        16688.847656          16836.472656   \n",
       "\n",
       "   fourDaysAgo_btcOpen  fiveDaysAgo_btcOpen  sixDaysAgo_btcOpen  \\\n",
       "0         24099.011684         24073.014504        24088.267965   \n",
       "1         24099.011684         24073.014504        24088.267965   \n",
       "2         24099.011684         24073.014504        24088.267965   \n",
       "3         24099.011684         24073.014504        24088.267965   \n",
       "4         16688.847656         24073.014504        24088.267965   \n",
       "5         16688.847656         16688.847656        24088.267965   \n",
       "6         16680.205078         16688.847656        16688.847656   \n",
       "7         16863.472656         16680.205078        16688.847656   \n",
       "8         16680.205078         16863.472656        16680.205078   \n",
       "9         17093.992188         16680.205078        16863.472656   \n",
       "\n",
       "   sevenDaysAgo_btcOpen  yesterday_btcLow  twoDaysAgo_btcLow  ...  \\\n",
       "0          24120.959347      23741.355753       23736.684017  ...   \n",
       "1          24120.959347      16622.371094       23736.684017  ...   \n",
       "2          24120.959347      16622.371094       16622.371094  ...   \n",
       "3          24120.959347      16667.763672       16622.371094  ...   \n",
       "4          24120.959347      16790.283203       16667.763672  ...   \n",
       "5          24120.959347      16667.763672       16790.283203  ...   \n",
       "6          24120.959347      17093.992188       16667.763672  ...   \n",
       "7          16688.847656      16716.421875       17093.992188  ...   \n",
       "8          16688.847656      16622.371094       16716.421875  ...   \n",
       "9          16680.205078      18753.164063       16622.371094  ...   \n",
       "\n",
       "   fiveDaysAgo_spyAdj Close  sixDaysAgo_spyAdj Close  \\\n",
       "0                402.256368               402.349253   \n",
       "1                402.256368               402.349253   \n",
       "2                402.256368               402.349253   \n",
       "3                402.256368               402.349253   \n",
       "4                402.256368               402.349253   \n",
       "5                373.956818               402.349253   \n",
       "6                373.956818               373.956818   \n",
       "7                376.843842               373.956818   \n",
       "8                372.542755               376.843842   \n",
       "9                376.843842               372.542755   \n",
       "\n",
       "   sevenDaysAgo_spyAdj Close  yesterday_spyVolume  twoDaysAgo_spyVolume  \\\n",
       "0                 402.484124         8.299598e+07          8.287515e+07   \n",
       "1                 402.484124         7.485070e+07          8.287515e+07   \n",
       "2                 402.484124         7.485070e+07          7.485070e+07   \n",
       "3                 402.484124         8.593410e+07          7.485070e+07   \n",
       "4                 402.484124         7.697050e+07          8.593410e+07   \n",
       "5                 402.484124         8.593410e+07          7.697050e+07   \n",
       "6                 402.484124         7.397810e+07          8.593410e+07   \n",
       "7                 373.956818         1.041896e+08          7.397810e+07   \n",
       "8                 373.956818         7.485070e+07          1.041896e+08   \n",
       "9                 376.843842         6.390390e+07          7.485070e+07   \n",
       "\n",
       "   threeDaysAgo_spyVolume  fourDaysAgo_spyVolume  fiveDaysAgo_spyVolume  \\\n",
       "0            8.297350e+07           8.298511e+07           8.294435e+07   \n",
       "1            8.297350e+07           8.298511e+07           8.294435e+07   \n",
       "2            8.297350e+07           8.298511e+07           8.294435e+07   \n",
       "3            7.485070e+07           8.298511e+07           8.294435e+07   \n",
       "4            7.485070e+07           7.485070e+07           8.294435e+07   \n",
       "5            8.593410e+07           7.485070e+07           7.485070e+07   \n",
       "6            7.697050e+07           8.593410e+07           7.485070e+07   \n",
       "7            8.593410e+07           7.697050e+07           8.593410e+07   \n",
       "8            7.397810e+07           8.593410e+07           7.697050e+07   \n",
       "9            1.041896e+08           7.397810e+07           8.593410e+07   \n",
       "\n",
       "   sixDaysAgo_spyVolume  sevenDaysAgo_spyVolume  \n",
       "0          8.292626e+07            8.295321e+07  \n",
       "1          8.292626e+07            8.295321e+07  \n",
       "2          8.292626e+07            8.295321e+07  \n",
       "3          8.292626e+07            8.295321e+07  \n",
       "4          8.292626e+07            8.295321e+07  \n",
       "5          8.292626e+07            8.295321e+07  \n",
       "6          7.485070e+07            8.295321e+07  \n",
       "7          7.485070e+07            7.485070e+07  \n",
       "8          8.593410e+07            7.485070e+07  \n",
       "9          7.697050e+07            8.593410e+07  \n",
       "\n",
       "[10 rows x 120 columns]"
      ]
     },
     "execution_count": 28,
     "metadata": {},
     "output_type": "execute_result"
    }
   ],
   "source": [
    "X_train_btcHigh.head(10)"
   ]
  },
  {
   "cell_type": "code",
   "execution_count": 29,
   "id": "3abc13dc",
   "metadata": {},
   "outputs": [
    {
     "data": {
      "text/plain": [
       "0.9756622005883683"
      ]
     },
     "execution_count": 29,
     "metadata": {},
     "output_type": "execute_result"
    }
   ],
   "source": [
    "from sklearn.metrics import r2_score\n",
    "r2_score(y_train_btcHigh, y_pred_btcHigh)"
   ]
  },
  {
   "cell_type": "code",
   "execution_count": 30,
   "id": "67b34e07",
   "metadata": {},
   "outputs": [
    {
     "data": {
      "text/html": [
       "<div>\n",
       "<style scoped>\n",
       "    .dataframe tbody tr th:only-of-type {\n",
       "        vertical-align: middle;\n",
       "    }\n",
       "\n",
       "    .dataframe tbody tr th {\n",
       "        vertical-align: top;\n",
       "    }\n",
       "\n",
       "    .dataframe thead th {\n",
       "        text-align: right;\n",
       "    }\n",
       "</style>\n",
       "<table border=\"1\" class=\"dataframe\">\n",
       "  <thead>\n",
       "    <tr style=\"text-align: right;\">\n",
       "      <th></th>\n",
       "      <th>Date</th>\n",
       "      <th>Actual High</th>\n",
       "      <th>Predicted High</th>\n",
       "      <th>Difference</th>\n",
       "    </tr>\n",
       "  </thead>\n",
       "  <tbody>\n",
       "    <tr>\n",
       "      <th>0</th>\n",
       "      <td>20230103.0</td>\n",
       "      <td>16760.447266</td>\n",
       "      <td>16318.982918</td>\n",
       "      <td>441.46</td>\n",
       "    </tr>\n",
       "    <tr>\n",
       "      <th>1</th>\n",
       "      <td>20230103.0</td>\n",
       "      <td>16760.447266</td>\n",
       "      <td>16318.982918</td>\n",
       "      <td>441.46</td>\n",
       "    </tr>\n",
       "    <tr>\n",
       "      <th>2</th>\n",
       "      <td>20230104.0</td>\n",
       "      <td>16964.585938</td>\n",
       "      <td>16517.744648</td>\n",
       "      <td>446.84</td>\n",
       "    </tr>\n",
       "    <tr>\n",
       "      <th>3</th>\n",
       "      <td>20230105.0</td>\n",
       "      <td>16884.021484</td>\n",
       "      <td>16439.302234</td>\n",
       "      <td>444.72</td>\n",
       "    </tr>\n",
       "    <tr>\n",
       "      <th>4</th>\n",
       "      <td>20230104.0</td>\n",
       "      <td>16964.585938</td>\n",
       "      <td>16517.744648</td>\n",
       "      <td>446.84</td>\n",
       "    </tr>\n",
       "  </tbody>\n",
       "</table>\n",
       "</div>"
      ],
      "text/plain": [
       "         Date   Actual High  Predicted High  Difference\n",
       "0  20230103.0  16760.447266    16318.982918      441.46\n",
       "1  20230103.0  16760.447266    16318.982918      441.46\n",
       "2  20230104.0  16964.585938    16517.744648      446.84\n",
       "3  20230105.0  16884.021484    16439.302234      444.72\n",
       "4  20230104.0  16964.585938    16517.744648      446.84"
      ]
     },
     "execution_count": 30,
     "metadata": {},
     "output_type": "execute_result"
    }
   ],
   "source": [
    "#Actual and predicted difference\n",
    "prediction_mse_df = pd.DataFrame({ 'Date': X_train_btcHigh['Date'], 'Actual High': y_train_btcHigh, 'Predicted High': y_pred_btcHigh, 'Difference': round(abs(y_train_btcHigh - y_pred_btcHigh),2)})\n",
    "prediction_mse_df[0:5]"
   ]
  },
  {
   "cell_type": "code",
   "execution_count": 31,
   "id": "421f8b03",
   "metadata": {
    "scrolled": true
   },
   "outputs": [
    {
     "data": {
      "text/plain": [
       "<function matplotlib.pyplot.show(close=None, block=None)>"
      ]
     },
     "execution_count": 31,
     "metadata": {},
     "output_type": "execute_result"
    },
    {
     "data": {
      "image/png": "[encoded data removed]",
      "text/plain": [
       "<Figure size 640x480 with 1 Axes>"
      ]
     },
     "metadata": {},
     "output_type": "display_data"
    }
   ],
   "source": [
    "import matplotlib.pyplot as plt\n",
    "plt.scatter(X_train_btcHigh['Date'], y_train_btcHigh, color = 'b')\n",
    "plt.scatter(X_train_btcHigh['Date'], y_pred_btcHigh, color = 'r')\n",
    "plt.show"
   ]
  },
  {
   "cell_type": "markdown",
   "id": "7c1be4d4",
   "metadata": {},
   "source": [
    "###  Predict the BTC future high price"
   ]
  },
  {
   "cell_type": "code",
   "execution_count": 32,
   "id": "0fc68558",
   "metadata": {},
   "outputs": [],
   "source": [
    "from datetime import datetime, timedelta\n",
    "today = datetime.now().date()\n",
    "\n",
    "tomorrow = (today + timedelta(days=1)).strftime('%Y-%m-%d')\n",
    "secondDay = (today + timedelta(days=2)).strftime('%Y-%m-%d')\n",
    "\n",
    "X = df\n",
    "y = df['btcHigh']\n",
    "predictor = Predictor(X,y)\n",
    "\n",
    "tomorrowPrediction = predictor._predictWithLinearRegression(tomorrow)\n",
    "secondDayPrediction = predictor._predictWithLinearRegression(secondDay)\n",
    "\n"
   ]
  },
  {
   "cell_type": "code",
   "execution_count": 33,
   "id": "66a23592",
   "metadata": {},
   "outputs": [
    {
     "name": "stdout",
     "output_type": "stream",
     "text": [
      "Predicted 2024-04-28:   29254.596914\n"
     ]
    }
   ],
   "source": [
    "print(\"Predicted \" + str(tomorrow) + \": \", tomorrowPrediction)"
   ]
  },
  {
   "cell_type": "code",
   "execution_count": 34,
   "id": "3c47edcb",
   "metadata": {},
   "outputs": [
    {
     "name": "stdout",
     "output_type": "stream",
     "text": [
      "Predicted 2024-04-29:   25048.358442\n"
     ]
    }
   ],
   "source": [
    "print(\"Predicted \" + str(secondDay) + \": \", secondDayPrediction)"
   ]
  },
  {
   "cell_type": "code",
   "execution_count": 35,
   "id": "b4be9ff5",
   "metadata": {},
   "outputs": [],
   "source": [
    "y_pred_btcHigh = predictor.getAllPredictionsBTCHigh()\n",
    "X_train_btcHigh = predictor.getAllXTrainBTCHigh()\n",
    "y_train_btcHigh = predictor.getAllYTrainBTCHigh()"
   ]
  },
  {
   "cell_type": "code",
   "execution_count": 36,
   "id": "a5aee7fb",
   "metadata": {},
   "outputs": [
    {
     "data": {
      "text/plain": [
       "<function matplotlib.pyplot.show(close=None, block=None)>"
      ]
     },
     "execution_count": 36,
     "metadata": {},
     "output_type": "execute_result"
    },
    {
     "data": {
      "image/png": "[encoded data removed]",
      "text/plain": [
       "<Figure size 640x480 with 1 Axes>"
      ]
     },
     "metadata": {},
     "output_type": "display_data"
    }
   ],
   "source": [
    "import matplotlib.pyplot as plt\n",
    "plt.scatter(X_train_btcHigh['Date'], y_train_btcHigh, color = 'b')\n",
    "plt.scatter(X_train_btcHigh['Date'], y_pred_btcHigh, color = 'r')\n",
    "plt.show"
   ]
  },
  {
   "cell_type": "code",
   "execution_count": 37,
   "id": "065ae8a0",
   "metadata": {},
   "outputs": [
    {
     "data": {
      "text/plain": [
       "0.9748866533269404"
      ]
     },
     "execution_count": 37,
     "metadata": {},
     "output_type": "execute_result"
    }
   ],
   "source": [
    "from sklearn.metrics import r2_score\n",
    "r2_score(y_train_btcHigh, y_pred_btcHigh)"
   ]
  },
  {
   "cell_type": "markdown",
   "id": "c628b0be-e6e9-498e-8359-c6a70a87cd03",
   "metadata": {},
   "source": [
    "When merged, around 600 or 30% of data got lost"
   ]
  },
  {
   "cell_type": "markdown",
   "id": "2cfb0652-a374-49ba-a716-18718d0db85d",
   "metadata": {},
   "source": [
    "## Graph - \n",
    "Guiller - I'm getting a conversion issue when computing the linear regression, so I converted the date to integer. That's why the graph is messed up. No need to fix the graph below, we will replace those with actual and prediction "
   ]
  },
  {
   "cell_type": "code",
   "execution_count": 38,
   "id": "1a76e912-6aad-470e-838e-2f1b2063b3af",
   "metadata": {},
   "outputs": [],
   "source": [
    "df['DATE'] = pd.to_datetime(df['Date'])"
   ]
  },
  {
   "cell_type": "code",
   "execution_count": 39,
   "id": "cf418cd0",
   "metadata": {},
   "outputs": [],
   "source": [
    "\n",
    "des = df.describe()\n",
    "exception = ['Date', 'DATE']\n",
    "for col in df.columns:\n",
    "    if col not in exception:\n",
    "        df[col] = (df[col] - des[col]['min']) / (des[col]['max'] - des[col]['min'])"
   ]
  },
  {
   "cell_type": "code",
   "execution_count": 40,
   "id": "1da5f12c-2fae-45e5-8ac1-1307faf03c16",
   "metadata": {},
   "outputs": [
    {
     "data": {
      "text/plain": [
       "<Axes: xlabel='DATE', ylabel='ethOpen'>"
      ]
     },
     "execution_count": 40,
     "metadata": {},
     "output_type": "execute_result"
    },
    {
     "data": {
      "image/png": "[encoded data removed]",
      "text/plain": [
       "<Figure size 640x480 with 1 Axes>"
      ]
     },
     "metadata": {},
     "output_type": "display_data"
    },
    {
     "data": {
      "image/png": "[encoded data removed]",
      "text/plain": [
       "<Figure size 640x480 with 1 Axes>"
      ]
     },
     "metadata": {},
     "output_type": "display_data"
    },
    {
     "data": {
      "image/png": "[encoded data removed]",
      "text/plain": [
       "<Figure size 640x480 with 1 Axes>"
      ]
     },
     "metadata": {},
     "output_type": "display_data"
    }
   ],
   "source": [
    "df.plot(x = 'DATE', y = 'spyOpen', kind = 'scatter')\n",
    "df.plot(x = 'DATE', y = 'btcOpen', kind = 'scatter')\n",
    "df.plot(x = 'DATE', y = 'ethOpen', kind = 'scatter')"
   ]
  },
  {
   "cell_type": "code",
   "execution_count": 41,
   "id": "1d39d4ae-e367-4ab3-b18e-1a4c0f26de21",
   "metadata": {},
   "outputs": [
    {
     "data": {
      "image/png": "[encoded data removed]",
      "text/plain": [
       "<Figure size 640x480 with 1 Axes>"
      ]
     },
     "metadata": {},
     "output_type": "display_data"
    }
   ],
   "source": [
    "plt.plot(df['DATE'], df['spyOpen'], label = 'Spy Open')\n",
    "plt.plot(df['DATE'], df['btcOpen'], label = 'Bitcoin Open')\n",
    "plt.plot(df['DATE'], df['ethOpen'], label = 'Ethererum Open')\n",
    "plt.show()"
   ]
  },
  {
   "cell_type": "markdown",
   "id": "fa31f29f-35b0-449a-b995-6e4d6f8996b4",
   "metadata": {},
   "source": [
    "Emphasize the need to normalization data, otherwise we cannot compare them"
   ]
  },
  {
   "cell_type": "markdown",
   "id": "f89040f8-8453-40ce-8328-0106525ab08b",
   "metadata": {},
   "source": [
    "# Normalize data"
   ]
  },
  {
   "cell_type": "code",
   "execution_count": null,
   "id": "29d19b68-5a1f-4be4-b799-1a60b9433fd2",
   "metadata": {},
   "outputs": [],
   "source": []
  },
  {
   "cell_type": "code",
   "execution_count": null,
   "id": "c2b45e79-243b-4066-a7bb-3389ec47f574",
   "metadata": {},
   "outputs": [],
   "source": []
  },
  {
   "cell_type": "code",
   "execution_count": null,
   "id": "3d5d4b37-e776-482a-9d26-c32cece97f59",
   "metadata": {},
   "outputs": [],
   "source": []
  },
  {
   "cell_type": "code",
   "execution_count": 42,
   "id": "cb0affd5-3403-4368-b42c-900bc8f2d89c",
   "metadata": {},
   "outputs": [
    {
     "data": {
      "image/png": "[encoded data removed]",
      "text/plain": [
       "<Figure size 640x480 with 1 Axes>"
      ]
     },
     "metadata": {},
     "output_type": "display_data"
    }
   ],
   "source": [
    "plt.plot(df['DATE'], df['spyOpen'], label = 'Spy Open')\n",
    "plt.plot(df['DATE'], df['btcOpen'], label = 'Bitcoin Open')\n",
    "plt.plot(df['DATE'], df['ethOpen'], label = 'Ethererum Open')\n",
    "plt.show()"
   ]
  },
  {
   "cell_type": "code",
   "execution_count": null,
   "id": "c7b5e373-598e-45f4-949e-02c4d81919cc",
   "metadata": {},
   "outputs": [],
   "source": []
  },
  {
   "cell_type": "code",
   "execution_count": null,
   "id": "f2d7f02b",
   "metadata": {},
   "outputs": [],
   "source": []
  }
 ],
 "metadata": {
  "kernelspec": {
   "display_name": "Python 3 (ipykernel)",
   "language": "python",
   "name": "python3"
  },
  "language_info": {
   "codemirror_mode": {
    "name": "ipython",
    "version": 3
   },
   "file_extension": ".py",
   "mimetype": "text/x-python",
   "name": "python",
   "nbconvert_exporter": "python",
   "pygments_lexer": "ipython3",
   "version": "3.11.4"
  }
 },
 "nbformat": 4,
 "nbformat_minor": 5
}
