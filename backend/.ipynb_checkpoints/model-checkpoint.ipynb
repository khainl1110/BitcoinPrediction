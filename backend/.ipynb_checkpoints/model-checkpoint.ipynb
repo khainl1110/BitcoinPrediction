{
 "cells": [
  {
   "cell_type": "code",
   "execution_count": 1,
   "id": "39a245fe-c2be-45a2-84a0-12d4555e0b7e",
   "metadata": {},
   "outputs": [],
   "source": [
    "import pandas as pd\n",
    "import seaborn\n",
    "import matplotlib.pyplot as plt\n",
    "import numpy as np\n",
    "import warnings\n",
    "import random"
   ]
  },
  {
   "cell_type": "code",
   "execution_count": 2,
   "id": "a6ced231-e986-46ef-8b86-98efabbed8e5",
   "metadata": {},
   "outputs": [],
   "source": [
    "btc = pd.read_csv('BTC-USD.csv')\n",
    "eth = pd.read_csv('ETH-USD.csv')\n",
    "spy = pd.read_csv('SPY.csv')"
   ]
  },
  {
   "cell_type": "code",
   "execution_count": 3,
   "id": "b3f7b7b5-16bb-4808-957d-e064e4829efc",
   "metadata": {},
   "outputs": [
    {
     "data": {
      "text/plain": [
       "0       2019-04-15\n",
       "1       2019-04-16\n",
       "2       2019-04-17\n",
       "3       2019-04-18\n",
       "4       2019-04-22\n",
       "           ...    \n",
       "1253    2024-04-08\n",
       "1254    2024-04-09\n",
       "1255    2024-04-10\n",
       "1256    2024-04-11\n",
       "1257    2024-04-12\n",
       "Name: Date, Length: 1258, dtype: object"
      ]
     },
     "execution_count": 3,
     "metadata": {},
     "output_type": "execute_result"
    }
   ],
   "source": [
    "spy['Date']"
   ]
  },
  {
   "cell_type": "markdown",
   "id": "97e724a7-4169-4759-a69c-b1f2345252f1",
   "metadata": {},
   "source": [
    "## Data preprocessing"
   ]
  },
  {
   "cell_type": "markdown",
   "id": "049d1c7a-ea08-4e07-adae-2ed6d0ee5059",
   "metadata": {},
   "source": [
    "### Convert column name to perspective column name"
   ]
  },
  {
   "cell_type": "code",
   "execution_count": 4,
   "id": "1a16a302-2b51-4772-b77e-1dc63d29fab1",
   "metadata": {},
   "outputs": [
    {
     "data": {
      "text/plain": [
       "Index(['Date', 'Open', 'High', 'Low', 'Close', 'Adj Close', 'Volume'], dtype='object')"
      ]
     },
     "execution_count": 4,
     "metadata": {},
     "output_type": "execute_result"
    }
   ],
   "source": [
    "btc.columns"
   ]
  },
  {
   "cell_type": "code",
   "execution_count": 5,
   "id": "77bea7db-107e-44b4-9259-add018938adc",
   "metadata": {},
   "outputs": [
    {
     "data": {
      "text/html": [
       "<div>\n",
       "<style scoped>\n",
       "    .dataframe tbody tr th:only-of-type {\n",
       "        vertical-align: middle;\n",
       "    }\n",
       "\n",
       "    .dataframe tbody tr th {\n",
       "        vertical-align: top;\n",
       "    }\n",
       "\n",
       "    .dataframe thead th {\n",
       "        text-align: right;\n",
       "    }\n",
       "</style>\n",
       "<table border=\"1\" class=\"dataframe\">\n",
       "  <thead>\n",
       "    <tr style=\"text-align: right;\">\n",
       "      <th></th>\n",
       "      <th>Date</th>\n",
       "      <th>Open</th>\n",
       "      <th>High</th>\n",
       "      <th>Low</th>\n",
       "      <th>Close</th>\n",
       "      <th>Adj Close</th>\n",
       "      <th>Volume</th>\n",
       "    </tr>\n",
       "  </thead>\n",
       "  <tbody>\n",
       "    <tr>\n",
       "      <th>0</th>\n",
       "      <td>2019-04-13</td>\n",
       "      <td>5088.850098</td>\n",
       "      <td>5127.122070</td>\n",
       "      <td>5061.589355</td>\n",
       "      <td>5096.586426</td>\n",
       "      <td>5096.586426</td>\n",
       "      <td>10823289598</td>\n",
       "    </tr>\n",
       "    <tr>\n",
       "      <th>1</th>\n",
       "      <td>2019-04-14</td>\n",
       "      <td>5095.758789</td>\n",
       "      <td>5184.016113</td>\n",
       "      <td>5053.568359</td>\n",
       "      <td>5167.722168</td>\n",
       "      <td>5167.722168</td>\n",
       "      <td>10391952498</td>\n",
       "    </tr>\n",
       "    <tr>\n",
       "      <th>2</th>\n",
       "      <td>2019-04-15</td>\n",
       "      <td>5167.321777</td>\n",
       "      <td>5196.606934</td>\n",
       "      <td>5024.069336</td>\n",
       "      <td>5067.108398</td>\n",
       "      <td>5067.108398</td>\n",
       "      <td>12290155061</td>\n",
       "    </tr>\n",
       "    <tr>\n",
       "      <th>3</th>\n",
       "      <td>2019-04-16</td>\n",
       "      <td>5066.577637</td>\n",
       "      <td>5238.945313</td>\n",
       "      <td>5055.194824</td>\n",
       "      <td>5235.559570</td>\n",
       "      <td>5235.559570</td>\n",
       "      <td>11618660197</td>\n",
       "    </tr>\n",
       "    <tr>\n",
       "      <th>4</th>\n",
       "      <td>2019-04-17</td>\n",
       "      <td>5236.135254</td>\n",
       "      <td>5274.275391</td>\n",
       "      <td>5219.205566</td>\n",
       "      <td>5251.937988</td>\n",
       "      <td>5251.937988</td>\n",
       "      <td>12438480677</td>\n",
       "    </tr>\n",
       "  </tbody>\n",
       "</table>\n",
       "</div>"
      ],
      "text/plain": [
       "         Date         Open         High          Low        Close  \\\n",
       "0  2019-04-13  5088.850098  5127.122070  5061.589355  5096.586426   \n",
       "1  2019-04-14  5095.758789  5184.016113  5053.568359  5167.722168   \n",
       "2  2019-04-15  5167.321777  5196.606934  5024.069336  5067.108398   \n",
       "3  2019-04-16  5066.577637  5238.945313  5055.194824  5235.559570   \n",
       "4  2019-04-17  5236.135254  5274.275391  5219.205566  5251.937988   \n",
       "\n",
       "     Adj Close       Volume  \n",
       "0  5096.586426  10823289598  \n",
       "1  5167.722168  10391952498  \n",
       "2  5067.108398  12290155061  \n",
       "3  5235.559570  11618660197  \n",
       "4  5251.937988  12438480677  "
      ]
     },
     "execution_count": 5,
     "metadata": {},
     "output_type": "execute_result"
    }
   ],
   "source": [
    "btc.head()"
   ]
  },
  {
   "cell_type": "code",
   "execution_count": 6,
   "id": "3a894c2c",
   "metadata": {},
   "outputs": [
    {
     "name": "stdout",
     "output_type": "stream",
     "text": [
      "Date         0\n",
      "Open         0\n",
      "High         0\n",
      "Low          0\n",
      "Close        0\n",
      "Adj Close    0\n",
      "Volume       0\n",
      "dtype: int64\n",
      "Date         0\n",
      "Open         0\n",
      "High         0\n",
      "Low          0\n",
      "Close        0\n",
      "Adj Close    0\n",
      "Volume       0\n",
      "dtype: int64\n",
      "Date         0\n",
      "Open         0\n",
      "High         0\n",
      "Low          0\n",
      "Close        0\n",
      "Adj Close    0\n",
      "Volume       0\n",
      "dtype: int64\n"
     ]
    }
   ],
   "source": [
    "#Check for any missing data\n",
    "print(btc.isna().sum())\n",
    "print(eth.isna().sum())\n",
    "print(spy.isna().sum())"
   ]
  },
  {
   "cell_type": "code",
   "execution_count": 7,
   "id": "8bc7f406-6d57-4ecd-9c59-f3709c0e7933",
   "metadata": {},
   "outputs": [],
   "source": [
    "for i in btc.columns:\n",
    "    if i != 'Date':\n",
    "        btc['btc' +i] = btc[i]\n",
    "        btc = btc.drop(i, axis = 1)"
   ]
  },
  {
   "cell_type": "code",
   "execution_count": 8,
   "id": "7841e8ef-e4d7-4036-983b-d9675eb1002a",
   "metadata": {},
   "outputs": [],
   "source": [
    "for i in eth.columns:\n",
    "    if i != 'Date':\n",
    "        eth['eth' +i] = eth[i]\n",
    "        eth = eth.drop(i, axis = 1)"
   ]
  },
  {
   "cell_type": "code",
   "execution_count": 9,
   "id": "a0e24b1b-c787-4a24-b413-179950e74289",
   "metadata": {},
   "outputs": [],
   "source": [
    "for i in spy.columns:\n",
    "    if i != 'Date':\n",
    "        spy['spy' +i] = spy[i]\n",
    "        spy = spy.drop(i, axis = 1)"
   ]
  },
  {
   "cell_type": "code",
   "execution_count": 10,
   "id": "31a7caeb-3ef1-4b2d-af1d-62e3a45f2aa3",
   "metadata": {},
   "outputs": [
    {
     "data": {
      "text/plain": [
       "Index(['Date', 'ethOpen', 'ethHigh', 'ethLow', 'ethClose', 'ethAdj Close',\n",
       "       'ethVolume'],\n",
       "      dtype='object')"
      ]
     },
     "execution_count": 10,
     "metadata": {},
     "output_type": "execute_result"
    }
   ],
   "source": [
    "eth.columns"
   ]
  },
  {
   "cell_type": "code",
   "execution_count": 11,
   "id": "ad906c24-5280-4e31-bd25-e204039880b8",
   "metadata": {},
   "outputs": [
    {
     "data": {
      "text/plain": [
       "Index(['Date', 'spyOpen', 'spyHigh', 'spyLow', 'spyClose', 'spyAdj Close',\n",
       "       'spyVolume'],\n",
       "      dtype='object')"
      ]
     },
     "execution_count": 11,
     "metadata": {},
     "output_type": "execute_result"
    }
   ],
   "source": [
    "spy.columns"
   ]
  },
  {
   "cell_type": "markdown",
   "id": "70925a56-e890-437d-bca2-14eb24a59c98",
   "metadata": {},
   "source": [
    "https://realpython.com/pandas-merge-join-and-concat/"
   ]
  },
  {
   "cell_type": "code",
   "execution_count": 12,
   "id": "34791bec-995d-4f76-970f-bc84bc28e447",
   "metadata": {},
   "outputs": [],
   "source": [
    "df = pd.merge(btc, eth, on = [\"Date\"])"
   ]
  },
  {
   "cell_type": "code",
   "execution_count": 13,
   "id": "74b1047f-6c71-4989-9dd4-8d10a759f111",
   "metadata": {},
   "outputs": [
    {
     "data": {
      "text/html": [
       "<div>\n",
       "<style scoped>\n",
       "    .dataframe tbody tr th:only-of-type {\n",
       "        vertical-align: middle;\n",
       "    }\n",
       "\n",
       "    .dataframe tbody tr th {\n",
       "        vertical-align: top;\n",
       "    }\n",
       "\n",
       "    .dataframe thead th {\n",
       "        text-align: right;\n",
       "    }\n",
       "</style>\n",
       "<table border=\"1\" class=\"dataframe\">\n",
       "  <thead>\n",
       "    <tr style=\"text-align: right;\">\n",
       "      <th></th>\n",
       "      <th>Date</th>\n",
       "      <th>btcOpen</th>\n",
       "      <th>btcHigh</th>\n",
       "      <th>btcLow</th>\n",
       "      <th>btcClose</th>\n",
       "      <th>btcAdj Close</th>\n",
       "      <th>btcVolume</th>\n",
       "      <th>ethOpen</th>\n",
       "      <th>ethHigh</th>\n",
       "      <th>ethLow</th>\n",
       "      <th>ethClose</th>\n",
       "      <th>ethAdj Close</th>\n",
       "      <th>ethVolume</th>\n",
       "    </tr>\n",
       "  </thead>\n",
       "  <tbody>\n",
       "    <tr>\n",
       "      <th>0</th>\n",
       "      <td>2019-04-13</td>\n",
       "      <td>5088.850098</td>\n",
       "      <td>5127.122070</td>\n",
       "      <td>5061.589355</td>\n",
       "      <td>5096.586426</td>\n",
       "      <td>5096.586426</td>\n",
       "      <td>10823289598</td>\n",
       "      <td>164.622849</td>\n",
       "      <td>166.362427</td>\n",
       "      <td>163.011856</td>\n",
       "      <td>164.513351</td>\n",
       "      <td>164.513351</td>\n",
       "      <td>4959301561</td>\n",
       "    </tr>\n",
       "    <tr>\n",
       "      <th>1</th>\n",
       "      <td>2019-04-14</td>\n",
       "      <td>5095.758789</td>\n",
       "      <td>5184.016113</td>\n",
       "      <td>5053.568359</td>\n",
       "      <td>5167.722168</td>\n",
       "      <td>5167.722168</td>\n",
       "      <td>10391952498</td>\n",
       "      <td>164.476089</td>\n",
       "      <td>168.591034</td>\n",
       "      <td>162.781479</td>\n",
       "      <td>167.838516</td>\n",
       "      <td>167.838516</td>\n",
       "      <td>4846298303</td>\n",
       "    </tr>\n",
       "    <tr>\n",
       "      <th>2</th>\n",
       "      <td>2019-04-15</td>\n",
       "      <td>5167.321777</td>\n",
       "      <td>5196.606934</td>\n",
       "      <td>5024.069336</td>\n",
       "      <td>5067.108398</td>\n",
       "      <td>5067.108398</td>\n",
       "      <td>12290155061</td>\n",
       "      <td>167.897476</td>\n",
       "      <td>168.818451</td>\n",
       "      <td>159.555740</td>\n",
       "      <td>161.574173</td>\n",
       "      <td>161.574173</td>\n",
       "      <td>5672311824</td>\n",
       "    </tr>\n",
       "    <tr>\n",
       "      <th>3</th>\n",
       "      <td>2019-04-16</td>\n",
       "      <td>5066.577637</td>\n",
       "      <td>5238.945313</td>\n",
       "      <td>5055.194824</td>\n",
       "      <td>5235.559570</td>\n",
       "      <td>5235.559570</td>\n",
       "      <td>11618660197</td>\n",
       "      <td>161.526550</td>\n",
       "      <td>167.666321</td>\n",
       "      <td>160.888748</td>\n",
       "      <td>167.623444</td>\n",
       "      <td>167.623444</td>\n",
       "      <td>5180105341</td>\n",
       "    </tr>\n",
       "    <tr>\n",
       "      <th>4</th>\n",
       "      <td>2019-04-17</td>\n",
       "      <td>5236.135254</td>\n",
       "      <td>5274.275391</td>\n",
       "      <td>5219.205566</td>\n",
       "      <td>5251.937988</td>\n",
       "      <td>5251.937988</td>\n",
       "      <td>12438480677</td>\n",
       "      <td>167.553696</td>\n",
       "      <td>168.938583</td>\n",
       "      <td>165.501892</td>\n",
       "      <td>166.950760</td>\n",
       "      <td>166.950760</td>\n",
       "      <td>5596102715</td>\n",
       "    </tr>\n",
       "  </tbody>\n",
       "</table>\n",
       "</div>"
      ],
      "text/plain": [
       "         Date      btcOpen      btcHigh       btcLow     btcClose  \\\n",
       "0  2019-04-13  5088.850098  5127.122070  5061.589355  5096.586426   \n",
       "1  2019-04-14  5095.758789  5184.016113  5053.568359  5167.722168   \n",
       "2  2019-04-15  5167.321777  5196.606934  5024.069336  5067.108398   \n",
       "3  2019-04-16  5066.577637  5238.945313  5055.194824  5235.559570   \n",
       "4  2019-04-17  5236.135254  5274.275391  5219.205566  5251.937988   \n",
       "\n",
       "   btcAdj Close    btcVolume     ethOpen     ethHigh      ethLow    ethClose  \\\n",
       "0   5096.586426  10823289598  164.622849  166.362427  163.011856  164.513351   \n",
       "1   5167.722168  10391952498  164.476089  168.591034  162.781479  167.838516   \n",
       "2   5067.108398  12290155061  167.897476  168.818451  159.555740  161.574173   \n",
       "3   5235.559570  11618660197  161.526550  167.666321  160.888748  167.623444   \n",
       "4   5251.937988  12438480677  167.553696  168.938583  165.501892  166.950760   \n",
       "\n",
       "   ethAdj Close   ethVolume  \n",
       "0    164.513351  4959301561  \n",
       "1    167.838516  4846298303  \n",
       "2    161.574173  5672311824  \n",
       "3    167.623444  5180105341  \n",
       "4    166.950760  5596102715  "
      ]
     },
     "execution_count": 13,
     "metadata": {},
     "output_type": "execute_result"
    }
   ],
   "source": [
    "df.head()"
   ]
  },
  {
   "cell_type": "code",
   "execution_count": 14,
   "id": "9447fed3-bab6-4773-ba47-ad2c97b65a75",
   "metadata": {},
   "outputs": [],
   "source": [
    "df = pd.merge(df, spy, on = ['Date'])"
   ]
  },
  {
   "cell_type": "code",
   "execution_count": 15,
   "id": "5d99a1b9-4a8e-4432-8e6a-c5e4002ad5d5",
   "metadata": {},
   "outputs": [
    {
     "data": {
      "text/html": [
       "<div>\n",
       "<style scoped>\n",
       "    .dataframe tbody tr th:only-of-type {\n",
       "        vertical-align: middle;\n",
       "    }\n",
       "\n",
       "    .dataframe tbody tr th {\n",
       "        vertical-align: top;\n",
       "    }\n",
       "\n",
       "    .dataframe thead th {\n",
       "        text-align: right;\n",
       "    }\n",
       "</style>\n",
       "<table border=\"1\" class=\"dataframe\">\n",
       "  <thead>\n",
       "    <tr style=\"text-align: right;\">\n",
       "      <th></th>\n",
       "      <th>Date</th>\n",
       "      <th>btcOpen</th>\n",
       "      <th>btcHigh</th>\n",
       "      <th>btcLow</th>\n",
       "      <th>btcClose</th>\n",
       "      <th>btcAdj Close</th>\n",
       "      <th>btcVolume</th>\n",
       "      <th>ethOpen</th>\n",
       "      <th>ethHigh</th>\n",
       "      <th>ethLow</th>\n",
       "      <th>ethClose</th>\n",
       "      <th>ethAdj Close</th>\n",
       "      <th>ethVolume</th>\n",
       "      <th>spyOpen</th>\n",
       "      <th>spyHigh</th>\n",
       "      <th>spyLow</th>\n",
       "      <th>spyClose</th>\n",
       "      <th>spyAdj Close</th>\n",
       "      <th>spyVolume</th>\n",
       "    </tr>\n",
       "  </thead>\n",
       "  <tbody>\n",
       "    <tr>\n",
       "      <th>0</th>\n",
       "      <td>2019-04-15</td>\n",
       "      <td>5167.321777</td>\n",
       "      <td>5196.606934</td>\n",
       "      <td>5024.069336</td>\n",
       "      <td>5067.108398</td>\n",
       "      <td>5067.108398</td>\n",
       "      <td>12290155061</td>\n",
       "      <td>167.897476</td>\n",
       "      <td>168.818451</td>\n",
       "      <td>159.555740</td>\n",
       "      <td>161.574173</td>\n",
       "      <td>161.574173</td>\n",
       "      <td>5672311824</td>\n",
       "      <td>290.239990</td>\n",
       "      <td>290.350006</td>\n",
       "      <td>289.079987</td>\n",
       "      <td>289.970001</td>\n",
       "      <td>267.572266</td>\n",
       "      <td>49596700</td>\n",
       "    </tr>\n",
       "    <tr>\n",
       "      <th>1</th>\n",
       "      <td>2019-04-16</td>\n",
       "      <td>5066.577637</td>\n",
       "      <td>5238.945313</td>\n",
       "      <td>5055.194824</td>\n",
       "      <td>5235.559570</td>\n",
       "      <td>5235.559570</td>\n",
       "      <td>11618660197</td>\n",
       "      <td>161.526550</td>\n",
       "      <td>167.666321</td>\n",
       "      <td>160.888748</td>\n",
       "      <td>167.623444</td>\n",
       "      <td>167.623444</td>\n",
       "      <td>5180105341</td>\n",
       "      <td>290.950012</td>\n",
       "      <td>291.010010</td>\n",
       "      <td>289.500000</td>\n",
       "      <td>290.160004</td>\n",
       "      <td>267.747620</td>\n",
       "      <td>52153200</td>\n",
       "    </tr>\n",
       "    <tr>\n",
       "      <th>2</th>\n",
       "      <td>2019-04-17</td>\n",
       "      <td>5236.135254</td>\n",
       "      <td>5274.275391</td>\n",
       "      <td>5219.205566</td>\n",
       "      <td>5251.937988</td>\n",
       "      <td>5251.937988</td>\n",
       "      <td>12438480677</td>\n",
       "      <td>167.553696</td>\n",
       "      <td>168.938583</td>\n",
       "      <td>165.501892</td>\n",
       "      <td>166.950760</td>\n",
       "      <td>166.950760</td>\n",
       "      <td>5596102715</td>\n",
       "      <td>291.399994</td>\n",
       "      <td>291.429993</td>\n",
       "      <td>288.989990</td>\n",
       "      <td>289.450012</td>\n",
       "      <td>267.092377</td>\n",
       "      <td>58268300</td>\n",
       "    </tr>\n",
       "    <tr>\n",
       "      <th>3</th>\n",
       "      <td>2019-04-18</td>\n",
       "      <td>5251.480469</td>\n",
       "      <td>5319.986328</td>\n",
       "      <td>5250.506836</td>\n",
       "      <td>5298.385742</td>\n",
       "      <td>5298.385742</td>\n",
       "      <td>13256489918</td>\n",
       "      <td>166.913208</td>\n",
       "      <td>175.365326</td>\n",
       "      <td>166.672119</td>\n",
       "      <td>173.814026</td>\n",
       "      <td>173.814026</td>\n",
       "      <td>6971581464</td>\n",
       "      <td>290.100006</td>\n",
       "      <td>290.320007</td>\n",
       "      <td>288.660004</td>\n",
       "      <td>290.019989</td>\n",
       "      <td>267.618439</td>\n",
       "      <td>68708500</td>\n",
       "    </tr>\n",
       "    <tr>\n",
       "      <th>4</th>\n",
       "      <td>2019-04-22</td>\n",
       "      <td>5312.494629</td>\n",
       "      <td>5422.687500</td>\n",
       "      <td>5280.276855</td>\n",
       "      <td>5399.365234</td>\n",
       "      <td>5399.365234</td>\n",
       "      <td>14601631648</td>\n",
       "      <td>170.017487</td>\n",
       "      <td>173.069122</td>\n",
       "      <td>168.729553</td>\n",
       "      <td>171.874664</td>\n",
       "      <td>171.874664</td>\n",
       "      <td>6094878077</td>\n",
       "      <td>289.170013</td>\n",
       "      <td>290.440002</td>\n",
       "      <td>289.070007</td>\n",
       "      <td>290.269989</td>\n",
       "      <td>267.849091</td>\n",
       "      <td>40160100</td>\n",
       "    </tr>\n",
       "  </tbody>\n",
       "</table>\n",
       "</div>"
      ],
      "text/plain": [
       "         Date      btcOpen      btcHigh       btcLow     btcClose  \\\n",
       "0  2019-04-15  5167.321777  5196.606934  5024.069336  5067.108398   \n",
       "1  2019-04-16  5066.577637  5238.945313  5055.194824  5235.559570   \n",
       "2  2019-04-17  5236.135254  5274.275391  5219.205566  5251.937988   \n",
       "3  2019-04-18  5251.480469  5319.986328  5250.506836  5298.385742   \n",
       "4  2019-04-22  5312.494629  5422.687500  5280.276855  5399.365234   \n",
       "\n",
       "   btcAdj Close    btcVolume     ethOpen     ethHigh      ethLow    ethClose  \\\n",
       "0   5067.108398  12290155061  167.897476  168.818451  159.555740  161.574173   \n",
       "1   5235.559570  11618660197  161.526550  167.666321  160.888748  167.623444   \n",
       "2   5251.937988  12438480677  167.553696  168.938583  165.501892  166.950760   \n",
       "3   5298.385742  13256489918  166.913208  175.365326  166.672119  173.814026   \n",
       "4   5399.365234  14601631648  170.017487  173.069122  168.729553  171.874664   \n",
       "\n",
       "   ethAdj Close   ethVolume     spyOpen     spyHigh      spyLow    spyClose  \\\n",
       "0    161.574173  5672311824  290.239990  290.350006  289.079987  289.970001   \n",
       "1    167.623444  5180105341  290.950012  291.010010  289.500000  290.160004   \n",
       "2    166.950760  5596102715  291.399994  291.429993  288.989990  289.450012   \n",
       "3    173.814026  6971581464  290.100006  290.320007  288.660004  290.019989   \n",
       "4    171.874664  6094878077  289.170013  290.440002  289.070007  290.269989   \n",
       "\n",
       "   spyAdj Close  spyVolume  \n",
       "0    267.572266   49596700  \n",
       "1    267.747620   52153200  \n",
       "2    267.092377   58268300  \n",
       "3    267.618439   68708500  \n",
       "4    267.849091   40160100  "
      ]
     },
     "execution_count": 15,
     "metadata": {},
     "output_type": "execute_result"
    }
   ],
   "source": [
    "df.head()"
   ]
  },
  {
   "cell_type": "code",
   "execution_count": 16,
   "id": "2f4b08fb-5245-415e-b3c2-b46f80de5a84",
   "metadata": {},
   "outputs": [
    {
     "data": {
      "text/plain": [
       "(1828, 7)"
      ]
     },
     "execution_count": 16,
     "metadata": {},
     "output_type": "execute_result"
    }
   ],
   "source": [
    "btc.shape"
   ]
  },
  {
   "cell_type": "code",
   "execution_count": 17,
   "id": "30124422-dd37-456b-93ee-fff58decb067",
   "metadata": {},
   "outputs": [
    {
     "data": {
      "text/plain": [
       "(1258, 7)"
      ]
     },
     "execution_count": 17,
     "metadata": {},
     "output_type": "execute_result"
    }
   ],
   "source": [
    "spy.shape"
   ]
  },
  {
   "cell_type": "code",
   "execution_count": 18,
   "id": "cbc7a85a-51a0-4955-a31b-eef864cf08a0",
   "metadata": {},
   "outputs": [
    {
     "data": {
      "text/plain": [
       "(1258, 19)"
      ]
     },
     "execution_count": 18,
     "metadata": {},
     "output_type": "execute_result"
    }
   ],
   "source": [
    "df.shape"
   ]
  },
  {
   "cell_type": "code",
   "execution_count": 19,
   "id": "feaab4a5",
   "metadata": {},
   "outputs": [
    {
     "data": {
      "text/plain": [
       "(1258, 19)"
      ]
     },
     "execution_count": 19,
     "metadata": {},
     "output_type": "execute_result"
    }
   ],
   "source": [
    "df.shape"
   ]
  },
  {
   "cell_type": "code",
   "execution_count": 20,
   "id": "8d33b8de",
   "metadata": {},
   "outputs": [],
   "source": [
    "# Remove all string value for convertion Date to float\n",
    "dateColumn = df[\"Date\"]\n",
    "df[\"Date\"] = df[\"Date\"].str.replace(\"-\",'')\n",
    "df[\"Date\"] = pd.to_numeric(df['Date'], errors='coerce',downcast=\"integer\")\n"
   ]
  },
  {
   "cell_type": "code",
   "execution_count": 21,
   "id": "6b20ce6a",
   "metadata": {},
   "outputs": [
    {
     "name": "stdout",
     "output_type": "stream",
     "text": [
      "Date              int32\n",
      "btcOpen         float64\n",
      "btcHigh         float64\n",
      "btcLow          float64\n",
      "btcClose        float64\n",
      "btcAdj Close    float64\n",
      "btcVolume         int64\n",
      "ethOpen         float64\n",
      "ethHigh         float64\n",
      "ethLow          float64\n",
      "ethClose        float64\n",
      "ethAdj Close    float64\n",
      "ethVolume         int64\n",
      "spyOpen         float64\n",
      "spyHigh         float64\n",
      "spyLow          float64\n",
      "spyClose        float64\n",
      "spyAdj Close    float64\n",
      "spyVolume         int64\n",
      "dtype: object\n"
     ]
    }
   ],
   "source": [
    "print(df.dtypes)"
   ]
  },
  {
   "cell_type": "code",
   "execution_count": 22,
   "id": "09ef6eda",
   "metadata": {},
   "outputs": [
    {
     "data": {
      "text/html": [
       "<div>\n",
       "<style scoped>\n",
       "    .dataframe tbody tr th:only-of-type {\n",
       "        vertical-align: middle;\n",
       "    }\n",
       "\n",
       "    .dataframe tbody tr th {\n",
       "        vertical-align: top;\n",
       "    }\n",
       "\n",
       "    .dataframe thead th {\n",
       "        text-align: right;\n",
       "    }\n",
       "</style>\n",
       "<table border=\"1\" class=\"dataframe\">\n",
       "  <thead>\n",
       "    <tr style=\"text-align: right;\">\n",
       "      <th></th>\n",
       "      <th>Date</th>\n",
       "      <th>btcOpen</th>\n",
       "      <th>btcHigh</th>\n",
       "      <th>btcLow</th>\n",
       "      <th>btcClose</th>\n",
       "      <th>btcAdj Close</th>\n",
       "      <th>btcVolume</th>\n",
       "      <th>ethOpen</th>\n",
       "      <th>ethHigh</th>\n",
       "      <th>ethLow</th>\n",
       "      <th>ethClose</th>\n",
       "      <th>ethAdj Close</th>\n",
       "      <th>ethVolume</th>\n",
       "      <th>spyOpen</th>\n",
       "      <th>spyHigh</th>\n",
       "      <th>spyLow</th>\n",
       "      <th>spyClose</th>\n",
       "      <th>spyAdj Close</th>\n",
       "      <th>spyVolume</th>\n",
       "    </tr>\n",
       "  </thead>\n",
       "  <tbody>\n",
       "    <tr>\n",
       "      <th>0</th>\n",
       "      <td>20190415</td>\n",
       "      <td>5167.321777</td>\n",
       "      <td>5196.606934</td>\n",
       "      <td>5024.069336</td>\n",
       "      <td>5067.108398</td>\n",
       "      <td>5067.108398</td>\n",
       "      <td>12290155061</td>\n",
       "      <td>167.897476</td>\n",
       "      <td>168.818451</td>\n",
       "      <td>159.555740</td>\n",
       "      <td>161.574173</td>\n",
       "      <td>161.574173</td>\n",
       "      <td>5672311824</td>\n",
       "      <td>290.239990</td>\n",
       "      <td>290.350006</td>\n",
       "      <td>289.079987</td>\n",
       "      <td>289.970001</td>\n",
       "      <td>267.572266</td>\n",
       "      <td>49596700</td>\n",
       "    </tr>\n",
       "    <tr>\n",
       "      <th>1</th>\n",
       "      <td>20190416</td>\n",
       "      <td>5066.577637</td>\n",
       "      <td>5238.945313</td>\n",
       "      <td>5055.194824</td>\n",
       "      <td>5235.559570</td>\n",
       "      <td>5235.559570</td>\n",
       "      <td>11618660197</td>\n",
       "      <td>161.526550</td>\n",
       "      <td>167.666321</td>\n",
       "      <td>160.888748</td>\n",
       "      <td>167.623444</td>\n",
       "      <td>167.623444</td>\n",
       "      <td>5180105341</td>\n",
       "      <td>290.950012</td>\n",
       "      <td>291.010010</td>\n",
       "      <td>289.500000</td>\n",
       "      <td>290.160004</td>\n",
       "      <td>267.747620</td>\n",
       "      <td>52153200</td>\n",
       "    </tr>\n",
       "    <tr>\n",
       "      <th>2</th>\n",
       "      <td>20190417</td>\n",
       "      <td>5236.135254</td>\n",
       "      <td>5274.275391</td>\n",
       "      <td>5219.205566</td>\n",
       "      <td>5251.937988</td>\n",
       "      <td>5251.937988</td>\n",
       "      <td>12438480677</td>\n",
       "      <td>167.553696</td>\n",
       "      <td>168.938583</td>\n",
       "      <td>165.501892</td>\n",
       "      <td>166.950760</td>\n",
       "      <td>166.950760</td>\n",
       "      <td>5596102715</td>\n",
       "      <td>291.399994</td>\n",
       "      <td>291.429993</td>\n",
       "      <td>288.989990</td>\n",
       "      <td>289.450012</td>\n",
       "      <td>267.092377</td>\n",
       "      <td>58268300</td>\n",
       "    </tr>\n",
       "    <tr>\n",
       "      <th>3</th>\n",
       "      <td>20190418</td>\n",
       "      <td>5251.480469</td>\n",
       "      <td>5319.986328</td>\n",
       "      <td>5250.506836</td>\n",
       "      <td>5298.385742</td>\n",
       "      <td>5298.385742</td>\n",
       "      <td>13256489918</td>\n",
       "      <td>166.913208</td>\n",
       "      <td>175.365326</td>\n",
       "      <td>166.672119</td>\n",
       "      <td>173.814026</td>\n",
       "      <td>173.814026</td>\n",
       "      <td>6971581464</td>\n",
       "      <td>290.100006</td>\n",
       "      <td>290.320007</td>\n",
       "      <td>288.660004</td>\n",
       "      <td>290.019989</td>\n",
       "      <td>267.618439</td>\n",
       "      <td>68708500</td>\n",
       "    </tr>\n",
       "    <tr>\n",
       "      <th>4</th>\n",
       "      <td>20190422</td>\n",
       "      <td>5312.494629</td>\n",
       "      <td>5422.687500</td>\n",
       "      <td>5280.276855</td>\n",
       "      <td>5399.365234</td>\n",
       "      <td>5399.365234</td>\n",
       "      <td>14601631648</td>\n",
       "      <td>170.017487</td>\n",
       "      <td>173.069122</td>\n",
       "      <td>168.729553</td>\n",
       "      <td>171.874664</td>\n",
       "      <td>171.874664</td>\n",
       "      <td>6094878077</td>\n",
       "      <td>289.170013</td>\n",
       "      <td>290.440002</td>\n",
       "      <td>289.070007</td>\n",
       "      <td>290.269989</td>\n",
       "      <td>267.849091</td>\n",
       "      <td>40160100</td>\n",
       "    </tr>\n",
       "  </tbody>\n",
       "</table>\n",
       "</div>"
      ],
      "text/plain": [
       "       Date      btcOpen      btcHigh       btcLow     btcClose  btcAdj Close  \\\n",
       "0  20190415  5167.321777  5196.606934  5024.069336  5067.108398   5067.108398   \n",
       "1  20190416  5066.577637  5238.945313  5055.194824  5235.559570   5235.559570   \n",
       "2  20190417  5236.135254  5274.275391  5219.205566  5251.937988   5251.937988   \n",
       "3  20190418  5251.480469  5319.986328  5250.506836  5298.385742   5298.385742   \n",
       "4  20190422  5312.494629  5422.687500  5280.276855  5399.365234   5399.365234   \n",
       "\n",
       "     btcVolume     ethOpen     ethHigh      ethLow    ethClose  ethAdj Close  \\\n",
       "0  12290155061  167.897476  168.818451  159.555740  161.574173    161.574173   \n",
       "1  11618660197  161.526550  167.666321  160.888748  167.623444    167.623444   \n",
       "2  12438480677  167.553696  168.938583  165.501892  166.950760    166.950760   \n",
       "3  13256489918  166.913208  175.365326  166.672119  173.814026    173.814026   \n",
       "4  14601631648  170.017487  173.069122  168.729553  171.874664    171.874664   \n",
       "\n",
       "    ethVolume     spyOpen     spyHigh      spyLow    spyClose  spyAdj Close  \\\n",
       "0  5672311824  290.239990  290.350006  289.079987  289.970001    267.572266   \n",
       "1  5180105341  290.950012  291.010010  289.500000  290.160004    267.747620   \n",
       "2  5596102715  291.399994  291.429993  288.989990  289.450012    267.092377   \n",
       "3  6971581464  290.100006  290.320007  288.660004  290.019989    267.618439   \n",
       "4  6094878077  289.170013  290.440002  289.070007  290.269989    267.849091   \n",
       "\n",
       "   spyVolume  \n",
       "0   49596700  \n",
       "1   52153200  \n",
       "2   58268300  \n",
       "3   68708500  \n",
       "4   40160100  "
      ]
     },
     "execution_count": 22,
     "metadata": {},
     "output_type": "execute_result"
    }
   ],
   "source": [
    "df.head()"
   ]
  },
  {
   "cell_type": "code",
   "execution_count": null,
   "id": "07c252ec",
   "metadata": {},
   "outputs": [],
   "source": []
  },
  {
   "cell_type": "code",
   "execution_count": 23,
   "id": "696ba082",
   "metadata": {},
   "outputs": [],
   "source": [
    "# Updated Linear Regression from scratch for predicting high, I'm going to add regularization to this - Guiller"
   ]
  },
  {
   "cell_type": "code",
   "execution_count": 24,
   "id": "746a21f0",
   "metadata": {},
   "outputs": [],
   "source": [
    " \n",
    "class LinearRegressionRegularization:\n",
    "    def __init__(self, max_iter=10,  learningRate=50, random_state=None):\n",
    "        self.max_iter_ = max_iter\n",
    "        self.alpha = learningRate\n",
    "        self.random_state_ = random_state\n",
    "        self.w_ = [0,0,0,0,0,0,0,0,0,0,0,0,0,0,0,0,0]\n",
    "        self.w0 = 0\n",
    "        \n",
    "    def _split(self, X, y, ratio, random_state):\n",
    "        header = X.columns\n",
    "        # remove header for shuffling \n",
    "        x_data = X.values\n",
    "\n",
    "        random.seed(random_state)\n",
    "        train_ratio = ratio\n",
    "        test_ratio = 1 - train_ratio\n",
    "        \n",
    "        total_data_sample = len(X)\n",
    "        train_samples = int(total_data_sample * train_ratio)\n",
    "        test_samples = total_data_sample - train_samples\n",
    "\n",
    "        random.shuffle(x_data)\n",
    "        shuffled_data = pd.DataFrame(x_data, columns=header)\n",
    "\n",
    "        train_data = shuffled_data.head(train_samples)\n",
    "        test_data = shuffled_data.head(test_samples)\n",
    "        \n",
    "        return train_data, test_data\n",
    "\n",
    "        \n",
    "    def _predict(self, x_train, y_train):\n",
    "        #TO-DO : Add Regularization \n",
    "        \n",
    "        x_train_array = x_train.to_numpy()\n",
    "        m = len(y_train) # number of features \n",
    "        #Initial weights \n",
    "        tempWeights = [0,0,0,0,0,0,0,0,0,0,0,0,0,0,0,0,0] \n",
    "        tempW0 = 0\n",
    "        y_pred_btc = tempW0\n",
    "        \n",
    "        for idx in range (self.max_iter_): \n",
    "            for i in range (m):\n",
    "                summation = []\n",
    "                xi = x_train_array[i, :]\n",
    "                y_pred_btc = tempW0\n",
    "                for k in range (17):\n",
    "                    y_pred_btc += self.w_[k] * xi[k]\n",
    "                summation.append(y_pred_btc - y_train)\n",
    "\n",
    "                derivative = 2/m * sum(summation)\n",
    "                tempW0 = self.w0 - (self.alpha * derivative)\n",
    "\n",
    "            for j in range (17):\n",
    "                for i in range (m): \n",
    "                    summation = []\n",
    "                    xi = x_train_array[i, :]\n",
    "                    y_pred_btc = tempW0 \n",
    "                    for k in range (17):\n",
    "                        y_pred_btc += self.w_[k] * xi[k]  \n",
    "\n",
    "                    summation.append(y_pred_btc - y_train)\n",
    "                derivative = 2/m * sum(summation)\n",
    "                tempWeights.append(self.w_[j] - (self.alpha * derivative))    \n",
    "\n",
    "            #The previous iteration \n",
    "            last_17 = tempWeights[-17:]\n",
    "\n",
    "            #Assigning new weight values to old weights\n",
    "            for n in range (17):\n",
    "                tempWeights[n] = last_17[n]\n",
    "            self.w0 = tempW0\n",
    "            #next iteration\n",
    "\n",
    "        final_weights = tempWeights[:17]\n",
    "        self.w_ = final_weights\n",
    "        \n",
    "        return y_pred_btc\n",
    "    "
   ]
  },
  {
   "cell_type": "code",
   "execution_count": 25,
   "id": "3423c395",
   "metadata": {},
   "outputs": [],
   "source": [
    "model = LinearRegressionRegularization()\n",
    "\n",
    "#Split the data for predicting High\n",
    "X = df\n",
    "y = df['btcHigh']\n",
    "train_data, test_data, = model._split(X, y, ratio=0.7, random_state=123 )\n",
    "# Split the data into training subsets\n",
    "X_train_btcHigh = train_data.drop(columns=['btcHigh'])\n",
    "y_train_btcHigh = train_data['btcHigh']\n"
   ]
  },
  {
   "cell_type": "code",
   "execution_count": 26,
   "id": "697fffe4",
   "metadata": {},
   "outputs": [
    {
     "data": {
      "text/plain": [
       "(880,)"
      ]
     },
     "execution_count": 26,
     "metadata": {},
     "output_type": "execute_result"
    }
   ],
   "source": [
    "y_train_btcHigh.shape"
   ]
  },
  {
   "cell_type": "code",
   "execution_count": 27,
   "id": "17bae3c1",
   "metadata": {},
   "outputs": [],
   "source": [
    "#Predict\n",
    "y_pred_btcHigh = model._predict(X_train_btcHigh, y_train_btcHigh)"
   ]
  },
  {
   "cell_type": "code",
   "execution_count": 28,
   "id": "3abc13dc",
   "metadata": {},
   "outputs": [
    {
     "data": {
      "text/plain": [
       "0.7430744918996226"
      ]
     },
     "execution_count": 28,
     "metadata": {},
     "output_type": "execute_result"
    }
   ],
   "source": [
    "from sklearn.metrics import r2_score\n",
    "r2_score(y_train_btcHigh, y_pred_btcHigh)"
   ]
  },
  {
   "cell_type": "code",
   "execution_count": 29,
   "id": "7ed91d5a",
   "metadata": {},
   "outputs": [],
   "source": [
    "pd.options.mode.chained_assignment = None  #Hide warning\n",
    "\n",
    "X_train_btcHigh[\"Date\"]\n",
    "X_train_btcHigh['Date'] = X_train_btcHigh['Date'].astype(str)\n",
    "\n",
    "for k in range (len(X_train_btcHigh[\"Date\"])):\n",
    "    size = len(X_train_btcHigh[\"Date\"][k])\n",
    "    string = X_train_btcHigh[\"Date\"][k]\n",
    "    substring_to_remove = \".0\"\n",
    "    X_train_btcHigh['Date'][k] = string.replace(substring_to_remove, \"\")\n",
    "    \n",
    "for k in range (len(X_train_btcHigh[\"Date\"])):\n",
    "    size = len(X_train_btcHigh[\"Date\"][k])\n",
    "    string = X_train_btcHigh[\"Date\"][k]\n",
    "    X_train_btcHigh['Date'][k] = string[:4] + \"-\" + string[4:]\n",
    "    #print(result)\n",
    "    \n",
    "for k in range (len(X_train_btcHigh[\"Date\"])):\n",
    "    size = len(X_train_btcHigh[\"Date\"][k])\n",
    "    string = X_train_btcHigh[\"Date\"][k]\n",
    "    X_train_btcHigh['Date'][k] = string[:7] + \"-\" + string[7:]\n"
   ]
  },
  {
   "cell_type": "code",
   "execution_count": 30,
   "id": "67b34e07",
   "metadata": {},
   "outputs": [
    {
     "data": {
      "text/html": [
       "<div>\n",
       "<style scoped>\n",
       "    .dataframe tbody tr th:only-of-type {\n",
       "        vertical-align: middle;\n",
       "    }\n",
       "\n",
       "    .dataframe tbody tr th {\n",
       "        vertical-align: top;\n",
       "    }\n",
       "\n",
       "    .dataframe thead th {\n",
       "        text-align: right;\n",
       "    }\n",
       "</style>\n",
       "<table border=\"1\" class=\"dataframe\">\n",
       "  <thead>\n",
       "    <tr style=\"text-align: right;\">\n",
       "      <th></th>\n",
       "      <th>Date</th>\n",
       "      <th>Actual High</th>\n",
       "      <th>Predicted High</th>\n",
       "      <th>Difference</th>\n",
       "    </tr>\n",
       "  </thead>\n",
       "  <tbody>\n",
       "    <tr>\n",
       "      <th>0</th>\n",
       "      <td>2019-04-15</td>\n",
       "      <td>5196.606934</td>\n",
       "      <td>3425.332586</td>\n",
       "      <td>1771.27</td>\n",
       "    </tr>\n",
       "    <tr>\n",
       "      <th>1</th>\n",
       "      <td>2019-04-15</td>\n",
       "      <td>5196.606934</td>\n",
       "      <td>3425.332586</td>\n",
       "      <td>1771.27</td>\n",
       "    </tr>\n",
       "    <tr>\n",
       "      <th>2</th>\n",
       "      <td>2019-04-15</td>\n",
       "      <td>5196.606934</td>\n",
       "      <td>3425.332586</td>\n",
       "      <td>1771.27</td>\n",
       "    </tr>\n",
       "    <tr>\n",
       "      <th>3</th>\n",
       "      <td>2019-04-17</td>\n",
       "      <td>5274.275391</td>\n",
       "      <td>3476.527587</td>\n",
       "      <td>1797.75</td>\n",
       "    </tr>\n",
       "    <tr>\n",
       "      <th>4</th>\n",
       "      <td>2019-04-22</td>\n",
       "      <td>5422.687500</td>\n",
       "      <td>3574.353118</td>\n",
       "      <td>1848.33</td>\n",
       "    </tr>\n",
       "    <tr>\n",
       "      <th>5</th>\n",
       "      <td>2019-04-22</td>\n",
       "      <td>5422.687500</td>\n",
       "      <td>3574.353118</td>\n",
       "      <td>1848.33</td>\n",
       "    </tr>\n",
       "    <tr>\n",
       "      <th>6</th>\n",
       "      <td>2019-04-15</td>\n",
       "      <td>5196.606934</td>\n",
       "      <td>3425.332586</td>\n",
       "      <td>1771.27</td>\n",
       "    </tr>\n",
       "    <tr>\n",
       "      <th>7</th>\n",
       "      <td>2019-04-25</td>\n",
       "      <td>5542.238281</td>\n",
       "      <td>3653.154765</td>\n",
       "      <td>1889.08</td>\n",
       "    </tr>\n",
       "    <tr>\n",
       "      <th>8</th>\n",
       "      <td>2019-04-16</td>\n",
       "      <td>5238.945313</td>\n",
       "      <td>3453.239840</td>\n",
       "      <td>1785.71</td>\n",
       "    </tr>\n",
       "    <tr>\n",
       "      <th>9</th>\n",
       "      <td>2019-04-18</td>\n",
       "      <td>5319.986328</td>\n",
       "      <td>3506.657856</td>\n",
       "      <td>1813.33</td>\n",
       "    </tr>\n",
       "    <tr>\n",
       "      <th>10</th>\n",
       "      <td>2019-04-24</td>\n",
       "      <td>5642.044434</td>\n",
       "      <td>3718.941782</td>\n",
       "      <td>1923.10</td>\n",
       "    </tr>\n",
       "    <tr>\n",
       "      <th>11</th>\n",
       "      <td>2019-04-25</td>\n",
       "      <td>5542.238281</td>\n",
       "      <td>3653.154765</td>\n",
       "      <td>1889.08</td>\n",
       "    </tr>\n",
       "    <tr>\n",
       "      <th>12</th>\n",
       "      <td>2019-04-17</td>\n",
       "      <td>5274.275391</td>\n",
       "      <td>3476.527587</td>\n",
       "      <td>1797.75</td>\n",
       "    </tr>\n",
       "    <tr>\n",
       "      <th>13</th>\n",
       "      <td>2019-04-18</td>\n",
       "      <td>5319.986328</td>\n",
       "      <td>3506.657856</td>\n",
       "      <td>1813.33</td>\n",
       "    </tr>\n",
       "    <tr>\n",
       "      <th>14</th>\n",
       "      <td>2019-04-15</td>\n",
       "      <td>5196.606934</td>\n",
       "      <td>3425.332586</td>\n",
       "      <td>1771.27</td>\n",
       "    </tr>\n",
       "    <tr>\n",
       "      <th>15</th>\n",
       "      <td>2019-04-16</td>\n",
       "      <td>5238.945313</td>\n",
       "      <td>3453.239840</td>\n",
       "      <td>1785.71</td>\n",
       "    </tr>\n",
       "    <tr>\n",
       "      <th>16</th>\n",
       "      <td>2019-05-07</td>\n",
       "      <td>5988.178223</td>\n",
       "      <td>3947.095145</td>\n",
       "      <td>2041.08</td>\n",
       "    </tr>\n",
       "    <tr>\n",
       "      <th>17</th>\n",
       "      <td>2019-05-09</td>\n",
       "      <td>6183.039063</td>\n",
       "      <td>4075.537260</td>\n",
       "      <td>2107.50</td>\n",
       "    </tr>\n",
       "    <tr>\n",
       "      <th>18</th>\n",
       "      <td>2019-05-06</td>\n",
       "      <td>5802.957520</td>\n",
       "      <td>3825.007306</td>\n",
       "      <td>1977.95</td>\n",
       "    </tr>\n",
       "    <tr>\n",
       "      <th>19</th>\n",
       "      <td>2019-04-26</td>\n",
       "      <td>5383.634277</td>\n",
       "      <td>3548.611268</td>\n",
       "      <td>1835.02</td>\n",
       "    </tr>\n",
       "  </tbody>\n",
       "</table>\n",
       "</div>"
      ],
      "text/plain": [
       "          Date  Actual High  Predicted High  Difference\n",
       "0   2019-04-15  5196.606934     3425.332586     1771.27\n",
       "1   2019-04-15  5196.606934     3425.332586     1771.27\n",
       "2   2019-04-15  5196.606934     3425.332586     1771.27\n",
       "3   2019-04-17  5274.275391     3476.527587     1797.75\n",
       "4   2019-04-22  5422.687500     3574.353118     1848.33\n",
       "5   2019-04-22  5422.687500     3574.353118     1848.33\n",
       "6   2019-04-15  5196.606934     3425.332586     1771.27\n",
       "7   2019-04-25  5542.238281     3653.154765     1889.08\n",
       "8   2019-04-16  5238.945313     3453.239840     1785.71\n",
       "9   2019-04-18  5319.986328     3506.657856     1813.33\n",
       "10  2019-04-24  5642.044434     3718.941782     1923.10\n",
       "11  2019-04-25  5542.238281     3653.154765     1889.08\n",
       "12  2019-04-17  5274.275391     3476.527587     1797.75\n",
       "13  2019-04-18  5319.986328     3506.657856     1813.33\n",
       "14  2019-04-15  5196.606934     3425.332586     1771.27\n",
       "15  2019-04-16  5238.945313     3453.239840     1785.71\n",
       "16  2019-05-07  5988.178223     3947.095145     2041.08\n",
       "17  2019-05-09  6183.039063     4075.537260     2107.50\n",
       "18  2019-05-06  5802.957520     3825.007306     1977.95\n",
       "19  2019-04-26  5383.634277     3548.611268     1835.02"
      ]
     },
     "execution_count": 30,
     "metadata": {},
     "output_type": "execute_result"
    }
   ],
   "source": [
    "#Actual and predicted difference\n",
    "prediction_mse_df = pd.DataFrame({ 'Date': X_train_btcHigh['Date'], 'Actual High': y_train_btcHigh, 'Predicted High': y_pred_btcHigh, 'Difference': round(abs(y_train_btcHigh - y_pred_btcHigh),2)})\n",
    "prediction_mse_df[0:20]"
   ]
  },
  {
   "cell_type": "code",
   "execution_count": 31,
   "id": "421f8b03",
   "metadata": {
    "scrolled": true
   },
   "outputs": [
    {
     "data": {
      "text/plain": [
       "<function matplotlib.pyplot.show(close=None, block=None)>"
      ]
     },
     "execution_count": 31,
     "metadata": {},
     "output_type": "execute_result"
    },
    {
     "data": {
      "image/png": "[encoded data removed]",
      "text/plain": [
       "<Figure size 640x480 with 1 Axes>"
      ]
     },
     "metadata": {},
     "output_type": "display_data"
    }
   ],
   "source": [
    "import matplotlib.pyplot as plt\n",
    "plt.scatter(X_train_btcHigh['Date'], y_train_btcHigh, color = 'b')\n",
    "plt.scatter(X_train_btcHigh['Date'], y_pred_btcHigh, color = 'r')\n",
    "plt.show"
   ]
  },
  {
   "cell_type": "markdown",
   "id": "c628b0be-e6e9-498e-8359-c6a70a87cd03",
   "metadata": {},
   "source": [
    "When merged, around 600 or 30% of data got lost"
   ]
  },
  {
   "cell_type": "markdown",
   "id": "2cfb0652-a374-49ba-a716-18718d0db85d",
   "metadata": {},
   "source": [
    "## Graph - \n",
    "Guiller - I'm getting a conversion issue when computing the linear regression, so I converted the date to integer. That's why the graph is messed up. No need to fix the graph below, we will replace those with actual and prediction "
   ]
  },
  {
   "cell_type": "code",
   "execution_count": 32,
   "id": "1a76e912-6aad-470e-838e-2f1b2063b3af",
   "metadata": {},
   "outputs": [],
   "source": [
    "df['DATE'] = pd.to_datetime(df['Date'])"
   ]
  },
  {
   "cell_type": "code",
   "execution_count": 33,
   "id": "cf418cd0",
   "metadata": {},
   "outputs": [],
   "source": [
    "\n",
    "des = df.describe()\n",
    "exception = ['Date', 'DATE']\n",
    "for col in df.columns:\n",
    "    if col not in exception:\n",
    "        df[col] = (df[col] - des[col]['min']) / (des[col]['max'] - des[col]['min'])"
   ]
  },
  {
   "cell_type": "code",
   "execution_count": 34,
   "id": "1da5f12c-2fae-45e5-8ac1-1307faf03c16",
   "metadata": {},
   "outputs": [
    {
     "data": {
      "text/plain": [
       "<Axes: xlabel='DATE', ylabel='ethOpen'>"
      ]
     },
     "execution_count": 34,
     "metadata": {},
     "output_type": "execute_result"
    },
    {
     "data": {
      "image/png": "[encoded data removed]",
      "text/plain": [
       "<Figure size 640x480 with 1 Axes>"
      ]
     },
     "metadata": {},
     "output_type": "display_data"
    },
    {
     "data": {
      "image/png": "[encoded data removed]",
      "text/plain": [
       "<Figure size 640x480 with 1 Axes>"
      ]
     },
     "metadata": {},
     "output_type": "display_data"
    },
    {
     "data": {
      "image/png": "[encoded data removed]",
      "text/plain": [
       "<Figure size 640x480 with 1 Axes>"
      ]
     },
     "metadata": {},
     "output_type": "display_data"
    }
   ],
   "source": [
    "df.plot(x = 'DATE', y = 'spyOpen', kind = 'scatter')\n",
    "df.plot(x = 'DATE', y = 'btcOpen', kind = 'scatter')\n",
    "df.plot(x = 'DATE', y = 'ethOpen', kind = 'scatter')"
   ]
  },
  {
   "cell_type": "code",
   "execution_count": 35,
   "id": "1d39d4ae-e367-4ab3-b18e-1a4c0f26de21",
   "metadata": {},
   "outputs": [
    {
     "data": {
      "image/png": "[encoded data removed]",
      "text/plain": [
       "<Figure size 640x480 with 1 Axes>"
      ]
     },
     "metadata": {},
     "output_type": "display_data"
    }
   ],
   "source": [
    "plt.plot(df['DATE'], df['spyOpen'], label = 'Spy Open')\n",
    "plt.plot(df['DATE'], df['btcOpen'], label = 'Bitcoin Open')\n",
    "plt.plot(df['DATE'], df['ethOpen'], label = 'Ethererum Open')\n",
    "plt.show()"
   ]
  },
  {
   "cell_type": "markdown",
   "id": "fa31f29f-35b0-449a-b995-6e4d6f8996b4",
   "metadata": {},
   "source": [
    "Emphasize the need to normalization data, otherwise we cannot compare them"
   ]
  },
  {
   "cell_type": "markdown",
   "id": "f89040f8-8453-40ce-8328-0106525ab08b",
   "metadata": {},
   "source": [
    "# Normalize data"
   ]
  },
  {
   "cell_type": "code",
   "execution_count": null,
   "id": "29d19b68-5a1f-4be4-b799-1a60b9433fd2",
   "metadata": {},
   "outputs": [],
   "source": []
  },
  {
   "cell_type": "code",
   "execution_count": null,
   "id": "c2b45e79-243b-4066-a7bb-3389ec47f574",
   "metadata": {},
   "outputs": [],
   "source": []
  },
  {
   "cell_type": "code",
   "execution_count": null,
   "id": "3d5d4b37-e776-482a-9d26-c32cece97f59",
   "metadata": {},
   "outputs": [],
   "source": []
  },
  {
   "cell_type": "code",
   "execution_count": 36,
   "id": "cb0affd5-3403-4368-b42c-900bc8f2d89c",
   "metadata": {},
   "outputs": [
    {
     "data": {
      "image/png": "[encoded data removed]",
      "text/plain": [
       "<Figure size 640x480 with 1 Axes>"
      ]
     },
     "metadata": {},
     "output_type": "display_data"
    }
   ],
   "source": [
    "plt.plot(df['DATE'], df['spyOpen'], label = 'Spy Open')\n",
    "plt.plot(df['DATE'], df['btcOpen'], label = 'Bitcoin Open')\n",
    "plt.plot(df['DATE'], df['ethOpen'], label = 'Ethererum Open')\n",
    "plt.show()"
   ]
  },
  {
   "cell_type": "code",
   "execution_count": null,
   "id": "c7b5e373-598e-45f4-949e-02c4d81919cc",
   "metadata": {},
   "outputs": [],
   "source": []
  },
  {
   "cell_type": "code",
   "execution_count": null,
   "id": "f2d7f02b",
   "metadata": {},
   "outputs": [],
   "source": []
  }
 ],
 "metadata": {
  "kernelspec": {
   "display_name": "Python 3 (ipykernel)",
   "language": "python",
   "name": "python3"
  },
  "language_info": {
   "codemirror_mode": {
    "name": "ipython",
    "version": 3
   },
   "file_extension": ".py",
   "mimetype": "text/x-python",
   "name": "python",
   "nbconvert_exporter": "python",
   "pygments_lexer": "ipython3",
   "version": "3.11.4"
  }
 },
 "nbformat": 4,
 "nbformat_minor": 5
}
